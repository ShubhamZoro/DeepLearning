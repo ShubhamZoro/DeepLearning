{
  "cells": [
    {
      "cell_type": "markdown",
      "metadata": {
        "id": "IY7Zx3EwdBq1"
      },
      "source": [
        ":The purpose of SkimLit is to make reading medical paper easier. An NLP model to classify abstract sentences into the role they play (e.g. objective, methods, results, etc..) to enable researchers to skim through the literature and dive deeper when necessary."
      ]
    },
    {
      "cell_type": "code",
      "execution_count": null,
      "metadata": {
        "colab": {
          "base_uri": "https://localhost:8080/"
        },
        "id": "i9qvkbXgdOq_",
        "outputId": "36ee6ab1-1a4e-4d95-9ae3-d4f7f385f16a"
      },
      "outputs": [
        {
          "name": "stdout",
          "output_type": "stream",
          "text": [
            "/bin/bash: nvidia-smi: command not found\n"
          ]
        }
      ],
      "source": [
        "!nvidia-smi"
      ]
    },
    {
      "cell_type": "markdown",
      "metadata": {
        "id": "VgumEqCS45oC"
      },
      "source": [
        "Trying to replicate this paper https://arxiv.org/pdf/1710.06071.pdf , https://arxiv.org/pdf/1612.05251.pdf"
      ]
    },
    {
      "cell_type": "markdown",
      "metadata": {
        "id": "aPDGRVr0esNE"
      },
      "source": [
        "we can get datasets from here https://github.com/Franck-Dernoncourt/pubmed-rct"
      ]
    },
    {
      "cell_type": "code",
      "execution_count": null,
      "metadata": {
        "colab": {
          "base_uri": "https://localhost:8080/"
        },
        "id": "L21560wleCDs",
        "outputId": "7c47bc54-1499-4ea7-a935-ef88289ef5cf"
      },
      "outputs": [
        {
          "name": "stdout",
          "output_type": "stream",
          "text": [
            "Cloning into 'pubmed-rct'...\n",
            "remote: Enumerating objects: 33, done.\u001b[K\n",
            "remote: Counting objects: 100% (8/8), done.\u001b[K\n",
            "remote: Compressing objects: 100% (3/3), done.\u001b[K\n",
            "remote: Total 33 (delta 5), reused 5 (delta 5), pack-reused 25\n",
            "Unpacking objects: 100% (33/33), 177.08 MiB | 8.67 MiB/s, done.\n",
            "Updating files: 100% (13/13), done.\n"
          ]
        }
      ],
      "source": [
        "!git clone https://github.com/Franck-Dernoncourt/pubmed-rct.git"
      ]
    },
    {
      "cell_type": "code",
      "execution_count": null,
      "metadata": {
        "id": "ZNmKH6cEfdyS"
      },
      "outputs": [],
      "source": [
        "data_dir=\"/content/pubmed-rct/PubMed_20k_RCT_numbers_replaced_with_at_sign/\""
      ]
    },
    {
      "cell_type": "code",
      "execution_count": null,
      "metadata": {
        "colab": {
          "base_uri": "https://localhost:8080/"
        },
        "id": "35mAmJE_g551",
        "outputId": "e35a7964-06fb-4f25-a64e-bbadf93f0e48"
      },
      "outputs": [
        {
          "data": {
            "text/plain": [
              "['/content/pubmed-rct/PubMed_20k_RCT_numbers_replaced_with_at_sign/dev.txt',\n",
              " '/content/pubmed-rct/PubMed_20k_RCT_numbers_replaced_with_at_sign/train.txt',\n",
              " '/content/pubmed-rct/PubMed_20k_RCT_numbers_replaced_with_at_sign/test.txt']"
            ]
          },
          "execution_count": 4,
          "metadata": {},
          "output_type": "execute_result"
        }
      ],
      "source": [
        "import os \n",
        "filenames=[data_dir + filename for filename in os.listdir(data_dir)]\n",
        "filenames"
      ]
    },
    {
      "cell_type": "code",
      "execution_count": null,
      "metadata": {
        "id": "4vNqiIazhIvX"
      },
      "outputs": [],
      "source": [
        "def get_lines(filename):\n",
        "  with open(filename,'r') as f:\n",
        "    return f.readlines()\n"
      ]
    },
    {
      "cell_type": "code",
      "execution_count": null,
      "metadata": {
        "id": "yvYlfh2TwIsM"
      },
      "outputs": [],
      "source": [
        "train_lines=get_lines(data_dir+\"train.txt\")"
      ]
    },
    {
      "cell_type": "code",
      "execution_count": null,
      "metadata": {
        "colab": {
          "base_uri": "https://localhost:8080/"
        },
        "id": "AKt3EyUnwUuc",
        "outputId": "53c5a245-061c-46af-bad3-44d6925babdc"
      },
      "outputs": [
        {
          "data": {
            "text/plain": [
              "['###24293578\\n',\n",
              " 'OBJECTIVE\\tTo investigate the efficacy of @ weeks of daily low-dose oral prednisolone in improving pain , mobility , and systemic low-grade inflammation in the short term and whether the effect would be sustained at @ weeks in older adults with moderate to severe knee osteoarthritis ( OA ) .\\n',\n",
              " 'METHODS\\tA total of @ patients with primary knee OA were randomized @:@ ; @ received @ mg/day of prednisolone and @ received placebo for @ weeks .\\n',\n",
              " 'METHODS\\tOutcome measures included pain reduction and improvement in function scores and systemic inflammation markers .\\n',\n",
              " 'METHODS\\tPain was assessed using the visual analog pain scale ( @-@ mm ) .\\n',\n",
              " 'METHODS\\tSecondary outcome measures included the Western Ontario and McMaster Universities Osteoarthritis Index scores , patient global assessment ( PGA ) of the severity of knee OA , and @-min walk distance ( @MWD ) .\\n',\n",
              " 'METHODS\\tSerum levels of interleukin @ ( IL-@ ) , IL-@ , tumor necrosis factor ( TNF ) - , and high-sensitivity C-reactive protein ( hsCRP ) were measured .\\n',\n",
              " 'RESULTS\\tThere was a clinically relevant reduction in the intervention group compared to the placebo group for knee pain , physical function , PGA , and @MWD at @ weeks .\\n',\n",
              " 'RESULTS\\tThe mean difference between treatment arms ( @ % CI ) was @ ( @-@ @ ) , p < @ ; @ ( @-@ @ ) , p < @ ; @ ( @-@ @ ) , p < @ ; and @ ( @-@ @ ) , p < @ , respectively .\\n',\n",
              " 'RESULTS\\tFurther , there was a clinically relevant reduction in the serum levels of IL-@ , IL-@ , TNF - , and hsCRP at @ weeks in the intervention group when compared to the placebo group .\\n',\n",
              " 'RESULTS\\tThese differences remained significant at @ weeks .\\n',\n",
              " 'RESULTS\\tThe Outcome Measures in Rheumatology Clinical Trials-Osteoarthritis Research Society International responder rate was @ % in the intervention group and @ % in the placebo group ( p < @ ) .\\n',\n",
              " 'CONCLUSIONS\\tLow-dose oral prednisolone had both a short-term and a longer sustained effect resulting in less knee pain , better physical function , and attenuation of systemic inflammation in older patients with knee OA ( ClinicalTrials.gov identifier NCT@ ) .\\n',\n",
              " '\\n',\n",
              " '###24854809\\n',\n",
              " 'BACKGROUND\\tEmotional eating is associated with overeating and the development of obesity .\\n',\n",
              " 'BACKGROUND\\tYet , empirical evidence for individual ( trait ) differences in emotional eating and cognitive mechanisms that contribute to eating during sad mood remain equivocal .\\n',\n",
              " 'OBJECTIVE\\tThe aim of this study was to test if attention bias for food moderates the effect of self-reported emotional eating during sad mood ( vs neutral mood ) on actual food intake .\\n',\n",
              " 'OBJECTIVE\\tIt was expected that emotional eating is predictive of elevated attention for food and higher food intake after an experimentally induced sad mood and that attentional maintenance on food predicts food intake during a sad versus a neutral mood .\\n',\n",
              " 'METHODS\\tParticipants ( N = @ ) were randomly assigned to one of the two experimental mood induction conditions ( sad/neutral ) .\\n',\n",
              " 'METHODS\\tAttentional biases for high caloric foods were measured by eye tracking during a visual probe task with pictorial food and neutral stimuli .\\n',\n",
              " 'METHODS\\tSelf-reported emotional eating was assessed with the Dutch Eating Behavior Questionnaire ( DEBQ ) and ad libitum food intake was tested by a disguised food offer .\\n',\n",
              " 'RESULTS\\tHierarchical multivariate regression modeling showed that self-reported emotional eating did not account for changes in attention allocation for food or food intake in either condition .\\n',\n",
              " 'RESULTS\\tYet , attention maintenance on food cues was significantly related to increased intake specifically in the neutral condition , but not in the sad mood condition .\\n',\n",
              " 'CONCLUSIONS\\tThe current findings show that self-reported emotional eating ( based on the DEBQ ) might not validly predict who overeats when sad , at least not in a laboratory setting with healthy women .\\n',\n",
              " 'CONCLUSIONS\\tResults further suggest that attention maintenance on food relates to eating motivation when in a neutral affective state , and might therefore be a cognitive mechanism contributing to increased food intake in general , but maybe not during sad mood .\\n',\n",
              " '\\n']"
            ]
          },
          "execution_count": 7,
          "metadata": {},
          "output_type": "execute_result"
        }
      ],
      "source": [
        "train_lines[:27]"
      ]
    },
    {
      "cell_type": "code",
      "execution_count": null,
      "metadata": {
        "colab": {
          "base_uri": "https://localhost:8080/"
        },
        "id": "5rTzl8gtwYR8",
        "outputId": "9989439b-d4f5-40b0-feaf-1fff6a631f91"
      },
      "outputs": [
        {
          "data": {
            "text/plain": [
              "210040"
            ]
          },
          "execution_count": 8,
          "metadata": {},
          "output_type": "execute_result"
        }
      ],
      "source": [
        "len(train_lines)"
      ]
    },
    {
      "cell_type": "code",
      "execution_count": null,
      "metadata": {
        "id": "BgOPOvdxxuum"
      },
      "outputs": [],
      "source": [
        "# list1=[]\n",
        "\n",
        "# for i in train_lines:\n",
        "#   if i[0]=='#' or i[0]=='\\n':\n",
        "#     pass\n",
        "#   else:\n",
        "#     l=i.split(\"\\t\")\n",
        "#     print(l[1].replace('\\n',''))\n",
        "#     dict1={'target':l[0],\n",
        "#            'text':l[1],\n",
        "#            }\n",
        "#     list1.append(dict1)\n",
        "# print(list1[:2])\n",
        "\n",
        "def preprocess_text_with_line_numbers(filename):\n",
        "  input_lines=get_lines(filename)\n",
        "  abstract_lines=\"\"\n",
        "  abstract_samples=[]\n",
        "  for line in input_lines:\n",
        "    if line.startswith(\"###\"):\n",
        "      abstract_id=line\n",
        "      abstract_lines=\"\"\n",
        "    elif line.isspace():\n",
        "      abstract_line_split=abstract_lines.splitlines()\n",
        "      for abstract_line_number,abstract_line in enumerate(abstract_line_split):\n",
        "        line_data={}\n",
        "        target_text_split=abstract_line.split(\"\\t\")\n",
        "        line_data[\"target\"]=target_text_split[0]\n",
        "        line_data[\"text\"]=target_text_split[1].lower()\n",
        "        line_data[\"line_number\"]=abstract_line_number\n",
        "        line_data[\"total_lines\"]=len(abstract_line_split)-1\n",
        "        abstract_samples.append(line_data)\n",
        "    else:\n",
        "      abstract_lines+=line\n",
        "  return abstract_samples\n",
        "  \n",
        "\n",
        "\n",
        "\n",
        "\n"
      ]
    },
    {
      "cell_type": "code",
      "execution_count": null,
      "metadata": {
        "id": "azHWuAChQboD"
      },
      "outputs": [],
      "source": [
        "train_samples=preprocess_text_with_line_numbers(data_dir+\"train.txt\")\n",
        "val_samples=preprocess_text_with_line_numbers(data_dir+\"dev.txt\")\n",
        "test_samples=preprocess_text_with_line_numbers(data_dir+\"test.txt\")"
      ]
    },
    {
      "cell_type": "code",
      "execution_count": null,
      "metadata": {
        "colab": {
          "base_uri": "https://localhost:8080/"
        },
        "id": "xvO3XHH9Q94r",
        "outputId": "247c3f5f-21b1-41d7-a417-c19244f4efab"
      },
      "outputs": [
        {
          "data": {
            "text/plain": [
              "[{'target': 'OBJECTIVE',\n",
              "  'text': 'to investigate the efficacy of @ weeks of daily low-dose oral prednisolone in improving pain , mobility , and systemic low-grade inflammation in the short term and whether the effect would be sustained at @ weeks in older adults with moderate to severe knee osteoarthritis ( oa ) .',\n",
              "  'line_number': 0,\n",
              "  'total_lines': 11},\n",
              " {'target': 'METHODS',\n",
              "  'text': 'a total of @ patients with primary knee oa were randomized @:@ ; @ received @ mg/day of prednisolone and @ received placebo for @ weeks .',\n",
              "  'line_number': 1,\n",
              "  'total_lines': 11},\n",
              " {'target': 'METHODS',\n",
              "  'text': 'outcome measures included pain reduction and improvement in function scores and systemic inflammation markers .',\n",
              "  'line_number': 2,\n",
              "  'total_lines': 11},\n",
              " {'target': 'METHODS',\n",
              "  'text': 'pain was assessed using the visual analog pain scale ( @-@ mm ) .',\n",
              "  'line_number': 3,\n",
              "  'total_lines': 11},\n",
              " {'target': 'METHODS',\n",
              "  'text': 'secondary outcome measures included the western ontario and mcmaster universities osteoarthritis index scores , patient global assessment ( pga ) of the severity of knee oa , and @-min walk distance ( @mwd ) .',\n",
              "  'line_number': 4,\n",
              "  'total_lines': 11}]"
            ]
          },
          "execution_count": 11,
          "metadata": {},
          "output_type": "execute_result"
        }
      ],
      "source": [
        "train_samples[:5]"
      ]
    },
    {
      "cell_type": "code",
      "execution_count": null,
      "metadata": {
        "colab": {
          "base_uri": "https://localhost:8080/",
          "height": 425
        },
        "id": "vWB55-jbRAsQ",
        "outputId": "48d1e9fe-a134-417b-e03b-5f101b0067be"
      },
      "outputs": [
        {
          "data": {
            "text/html": [
              "\n",
              "  <div id=\"df-f81c69f8-8bc2-4184-a919-ee03bc09fa24\">\n",
              "    <div class=\"colab-df-container\">\n",
              "      <div>\n",
              "<style scoped>\n",
              "    .dataframe tbody tr th:only-of-type {\n",
              "        vertical-align: middle;\n",
              "    }\n",
              "\n",
              "    .dataframe tbody tr th {\n",
              "        vertical-align: top;\n",
              "    }\n",
              "\n",
              "    .dataframe thead th {\n",
              "        text-align: right;\n",
              "    }\n",
              "</style>\n",
              "<table border=\"1\" class=\"dataframe\">\n",
              "  <thead>\n",
              "    <tr style=\"text-align: right;\">\n",
              "      <th></th>\n",
              "      <th>target</th>\n",
              "      <th>text</th>\n",
              "      <th>line_number</th>\n",
              "      <th>total_lines</th>\n",
              "    </tr>\n",
              "  </thead>\n",
              "  <tbody>\n",
              "    <tr>\n",
              "      <th>0</th>\n",
              "      <td>OBJECTIVE</td>\n",
              "      <td>to investigate the efficacy of @ weeks of dail...</td>\n",
              "      <td>0</td>\n",
              "      <td>11</td>\n",
              "    </tr>\n",
              "    <tr>\n",
              "      <th>1</th>\n",
              "      <td>METHODS</td>\n",
              "      <td>a total of @ patients with primary knee oa wer...</td>\n",
              "      <td>1</td>\n",
              "      <td>11</td>\n",
              "    </tr>\n",
              "    <tr>\n",
              "      <th>2</th>\n",
              "      <td>METHODS</td>\n",
              "      <td>outcome measures included pain reduction and i...</td>\n",
              "      <td>2</td>\n",
              "      <td>11</td>\n",
              "    </tr>\n",
              "    <tr>\n",
              "      <th>3</th>\n",
              "      <td>METHODS</td>\n",
              "      <td>pain was assessed using the visual analog pain...</td>\n",
              "      <td>3</td>\n",
              "      <td>11</td>\n",
              "    </tr>\n",
              "    <tr>\n",
              "      <th>4</th>\n",
              "      <td>METHODS</td>\n",
              "      <td>secondary outcome measures included the wester...</td>\n",
              "      <td>4</td>\n",
              "      <td>11</td>\n",
              "    </tr>\n",
              "    <tr>\n",
              "      <th>5</th>\n",
              "      <td>METHODS</td>\n",
              "      <td>serum levels of interleukin @ ( il-@ ) , il-@ ...</td>\n",
              "      <td>5</td>\n",
              "      <td>11</td>\n",
              "    </tr>\n",
              "    <tr>\n",
              "      <th>6</th>\n",
              "      <td>RESULTS</td>\n",
              "      <td>there was a clinically relevant reduction in t...</td>\n",
              "      <td>6</td>\n",
              "      <td>11</td>\n",
              "    </tr>\n",
              "    <tr>\n",
              "      <th>7</th>\n",
              "      <td>RESULTS</td>\n",
              "      <td>the mean difference between treatment arms ( @...</td>\n",
              "      <td>7</td>\n",
              "      <td>11</td>\n",
              "    </tr>\n",
              "    <tr>\n",
              "      <th>8</th>\n",
              "      <td>RESULTS</td>\n",
              "      <td>further , there was a clinically relevant redu...</td>\n",
              "      <td>8</td>\n",
              "      <td>11</td>\n",
              "    </tr>\n",
              "    <tr>\n",
              "      <th>9</th>\n",
              "      <td>RESULTS</td>\n",
              "      <td>these differences remained significant at @ we...</td>\n",
              "      <td>9</td>\n",
              "      <td>11</td>\n",
              "    </tr>\n",
              "    <tr>\n",
              "      <th>10</th>\n",
              "      <td>RESULTS</td>\n",
              "      <td>the outcome measures in rheumatology clinical ...</td>\n",
              "      <td>10</td>\n",
              "      <td>11</td>\n",
              "    </tr>\n",
              "    <tr>\n",
              "      <th>11</th>\n",
              "      <td>CONCLUSIONS</td>\n",
              "      <td>low-dose oral prednisolone had both a short-te...</td>\n",
              "      <td>11</td>\n",
              "      <td>11</td>\n",
              "    </tr>\n",
              "  </tbody>\n",
              "</table>\n",
              "</div>\n",
              "      <button class=\"colab-df-convert\" onclick=\"convertToInteractive('df-f81c69f8-8bc2-4184-a919-ee03bc09fa24')\"\n",
              "              title=\"Convert this dataframe to an interactive table.\"\n",
              "              style=\"display:none;\">\n",
              "        \n",
              "  <svg xmlns=\"http://www.w3.org/2000/svg\" height=\"24px\"viewBox=\"0 0 24 24\"\n",
              "       width=\"24px\">\n",
              "    <path d=\"M0 0h24v24H0V0z\" fill=\"none\"/>\n",
              "    <path d=\"M18.56 5.44l.94 2.06.94-2.06 2.06-.94-2.06-.94-.94-2.06-.94 2.06-2.06.94zm-11 1L8.5 8.5l.94-2.06 2.06-.94-2.06-.94L8.5 2.5l-.94 2.06-2.06.94zm10 10l.94 2.06.94-2.06 2.06-.94-2.06-.94-.94-2.06-.94 2.06-2.06.94z\"/><path d=\"M17.41 7.96l-1.37-1.37c-.4-.4-.92-.59-1.43-.59-.52 0-1.04.2-1.43.59L10.3 9.45l-7.72 7.72c-.78.78-.78 2.05 0 2.83L4 21.41c.39.39.9.59 1.41.59.51 0 1.02-.2 1.41-.59l7.78-7.78 2.81-2.81c.8-.78.8-2.07 0-2.86zM5.41 20L4 18.59l7.72-7.72 1.47 1.35L5.41 20z\"/>\n",
              "  </svg>\n",
              "      </button>\n",
              "      \n",
              "  <style>\n",
              "    .colab-df-container {\n",
              "      display:flex;\n",
              "      flex-wrap:wrap;\n",
              "      gap: 12px;\n",
              "    }\n",
              "\n",
              "    .colab-df-convert {\n",
              "      background-color: #E8F0FE;\n",
              "      border: none;\n",
              "      border-radius: 50%;\n",
              "      cursor: pointer;\n",
              "      display: none;\n",
              "      fill: #1967D2;\n",
              "      height: 32px;\n",
              "      padding: 0 0 0 0;\n",
              "      width: 32px;\n",
              "    }\n",
              "\n",
              "    .colab-df-convert:hover {\n",
              "      background-color: #E2EBFA;\n",
              "      box-shadow: 0px 1px 2px rgba(60, 64, 67, 0.3), 0px 1px 3px 1px rgba(60, 64, 67, 0.15);\n",
              "      fill: #174EA6;\n",
              "    }\n",
              "\n",
              "    [theme=dark] .colab-df-convert {\n",
              "      background-color: #3B4455;\n",
              "      fill: #D2E3FC;\n",
              "    }\n",
              "\n",
              "    [theme=dark] .colab-df-convert:hover {\n",
              "      background-color: #434B5C;\n",
              "      box-shadow: 0px 1px 3px 1px rgba(0, 0, 0, 0.15);\n",
              "      filter: drop-shadow(0px 1px 2px rgba(0, 0, 0, 0.3));\n",
              "      fill: #FFFFFF;\n",
              "    }\n",
              "  </style>\n",
              "\n",
              "      <script>\n",
              "        const buttonEl =\n",
              "          document.querySelector('#df-f81c69f8-8bc2-4184-a919-ee03bc09fa24 button.colab-df-convert');\n",
              "        buttonEl.style.display =\n",
              "          google.colab.kernel.accessAllowed ? 'block' : 'none';\n",
              "\n",
              "        async function convertToInteractive(key) {\n",
              "          const element = document.querySelector('#df-f81c69f8-8bc2-4184-a919-ee03bc09fa24');\n",
              "          const dataTable =\n",
              "            await google.colab.kernel.invokeFunction('convertToInteractive',\n",
              "                                                     [key], {});\n",
              "          if (!dataTable) return;\n",
              "\n",
              "          const docLinkHtml = 'Like what you see? Visit the ' +\n",
              "            '<a target=\"_blank\" href=https://colab.research.google.com/notebooks/data_table.ipynb>data table notebook</a>'\n",
              "            + ' to learn more about interactive tables.';\n",
              "          element.innerHTML = '';\n",
              "          dataTable['output_type'] = 'display_data';\n",
              "          await google.colab.output.renderOutput(dataTable, element);\n",
              "          const docLink = document.createElement('div');\n",
              "          docLink.innerHTML = docLinkHtml;\n",
              "          element.appendChild(docLink);\n",
              "        }\n",
              "      </script>\n",
              "    </div>\n",
              "  </div>\n",
              "  "
            ],
            "text/plain": [
              "         target                                               text  \\\n",
              "0     OBJECTIVE  to investigate the efficacy of @ weeks of dail...   \n",
              "1       METHODS  a total of @ patients with primary knee oa wer...   \n",
              "2       METHODS  outcome measures included pain reduction and i...   \n",
              "3       METHODS  pain was assessed using the visual analog pain...   \n",
              "4       METHODS  secondary outcome measures included the wester...   \n",
              "5       METHODS  serum levels of interleukin @ ( il-@ ) , il-@ ...   \n",
              "6       RESULTS  there was a clinically relevant reduction in t...   \n",
              "7       RESULTS  the mean difference between treatment arms ( @...   \n",
              "8       RESULTS  further , there was a clinically relevant redu...   \n",
              "9       RESULTS  these differences remained significant at @ we...   \n",
              "10      RESULTS  the outcome measures in rheumatology clinical ...   \n",
              "11  CONCLUSIONS  low-dose oral prednisolone had both a short-te...   \n",
              "\n",
              "    line_number  total_lines  \n",
              "0             0           11  \n",
              "1             1           11  \n",
              "2             2           11  \n",
              "3             3           11  \n",
              "4             4           11  \n",
              "5             5           11  \n",
              "6             6           11  \n",
              "7             7           11  \n",
              "8             8           11  \n",
              "9             9           11  \n",
              "10           10           11  \n",
              "11           11           11  "
            ]
          },
          "execution_count": 12,
          "metadata": {},
          "output_type": "execute_result"
        }
      ],
      "source": [
        "import pandas as pd\n",
        "train_df=pd.DataFrame(train_samples)\n",
        "val_df=pd.DataFrame(val_samples)\n",
        "test_df=pd.DataFrame(test_samples)\n",
        "train_df.head(12)"
      ]
    },
    {
      "cell_type": "code",
      "execution_count": null,
      "metadata": {
        "colab": {
          "base_uri": "https://localhost:8080/"
        },
        "id": "6Iwk0NR_JZji",
        "outputId": "34eb2834-d35a-425a-e335-649563cb0f85"
      },
      "outputs": [
        {
          "data": {
            "text/plain": [
              "METHODS        59353\n",
              "RESULTS        57953\n",
              "CONCLUSIONS    27168\n",
              "BACKGROUND     21727\n",
              "OBJECTIVE      13839\n",
              "Name: target, dtype: int64"
            ]
          },
          "execution_count": 13,
          "metadata": {},
          "output_type": "execute_result"
        }
      ],
      "source": [
        "train_df.target.value_counts()"
      ]
    },
    {
      "cell_type": "code",
      "execution_count": null,
      "metadata": {
        "id": "ekPa2mXsKdqH"
      },
      "outputs": [],
      "source": [
        "train_sentences=train_df['text'].tolist()\n",
        "val_sentences=val_df['text'].tolist()\n",
        "test_sentences=test_df['text'].tolist()"
      ]
    },
    {
      "cell_type": "code",
      "execution_count": null,
      "metadata": {
        "colab": {
          "base_uri": "https://localhost:8080/"
        },
        "id": "Jf8m88Z5KoWj",
        "outputId": "5ef8a7ad-f52d-4db4-a663-1249f3d6c242"
      },
      "outputs": [
        {
          "data": {
            "text/plain": [
              "array([59353, 57953, 27168, 21727, 13839])"
            ]
          },
          "execution_count": 15,
          "metadata": {},
          "output_type": "execute_result"
        }
      ],
      "source": [
        "train_df.target.value_counts().values"
      ]
    },
    {
      "cell_type": "code",
      "execution_count": null,
      "metadata": {
        "colab": {
          "base_uri": "https://localhost:8080/",
          "height": 430
        },
        "id": "O5A5HPMxLjeE",
        "outputId": "6de17a41-54ce-4b81-f703-0fdfe905cc07"
      },
      "outputs": [
        {
          "data": {
            "image/png": "[encoded data removed]",
            "text/plain": [
              "<Figure size 640x480 with 1 Axes>"
            ]
          },
          "metadata": {},
          "output_type": "display_data"
        }
      ],
      "source": [
        "import matplotlib.pyplot as plt\n",
        "plt.bar(train_df.target.value_counts().index,train_df.target.value_counts().values)\n",
        "plt.show()"
      ]
    },
    {
      "cell_type": "code",
      "execution_count": null,
      "metadata": {
        "colab": {
          "base_uri": "https://localhost:8080/"
        },
        "id": "_tcQ238XM-V-",
        "outputId": "aa5f9a52-fb33-4f6e-eb68-535a479097a0"
      },
      "outputs": [
        {
          "name": "stderr",
          "output_type": "stream",
          "text": [
            "/usr/local/lib/python3.10/dist-packages/sklearn/preprocessing/_encoders.py:868: FutureWarning: `sparse` was renamed to `sparse_output` in version 1.2 and will be removed in 1.4. `sparse_output` is ignored unless you leave `sparse` to its default value.\n",
            "  warnings.warn(\n",
            "/usr/local/lib/python3.10/dist-packages/sklearn/preprocessing/_encoders.py:868: FutureWarning: `sparse` was renamed to `sparse_output` in version 1.2 and will be removed in 1.4. `sparse_output` is ignored unless you leave `sparse` to its default value.\n",
            "  warnings.warn(\n",
            "/usr/local/lib/python3.10/dist-packages/sklearn/preprocessing/_encoders.py:868: FutureWarning: `sparse` was renamed to `sparse_output` in version 1.2 and will be removed in 1.4. `sparse_output` is ignored unless you leave `sparse` to its default value.\n",
            "  warnings.warn(\n"
          ]
        }
      ],
      "source": [
        "from sklearn.preprocessing import OneHotEncoder\n",
        "one_hot_encoder=OneHotEncoder(sparse=False)\n",
        "train_labels_one_hot=one_hot_encoder.fit_transform(train_df['target'].to_numpy().reshape(-1,1))\n",
        "val_labels_one_hot=one_hot_encoder.fit_transform(val_df['target'].to_numpy().reshape(-1,1))\n",
        "test_labels_one_hot=one_hot_encoder.fit_transform(test_df['target'].to_numpy().reshape(-1,1))"
      ]
    },
    {
      "cell_type": "code",
      "execution_count": null,
      "metadata": {
        "colab": {
          "base_uri": "https://localhost:8080/"
        },
        "id": "cHjNbZcsOqWZ",
        "outputId": "c716889d-e424-423f-e690-fe24be240fbc"
      },
      "outputs": [
        {
          "data": {
            "text/plain": [
              "array([3, 2, 2, ..., 4, 1, 1])"
            ]
          },
          "execution_count": 18,
          "metadata": {},
          "output_type": "execute_result"
        }
      ],
      "source": [
        "from sklearn.preprocessing import LabelEncoder\n",
        "label_encoder=LabelEncoder()\n",
        "train_labels_encoded=label_encoder.fit_transform(train_df['target'].to_numpy())\n",
        "val_labels_encoded=label_encoder.fit_transform(val_df['target'].to_numpy())\n",
        "test_labels_encoded=label_encoder.fit_transform(test_df['target'].to_numpy())\n",
        "train_labels_encoded"
      ]
    },
    {
      "cell_type": "code",
      "execution_count": null,
      "metadata": {
        "colab": {
          "base_uri": "https://localhost:8080/"
        },
        "id": "aY4pLa0mPyCL",
        "outputId": "8e79850d-5d87-4f83-9636-1c4b43d73457"
      },
      "outputs": [
        {
          "data": {
            "text/plain": [
              "(5,\n",
              " array(['BACKGROUND', 'CONCLUSIONS', 'METHODS', 'OBJECTIVE', 'RESULTS'],\n",
              "       dtype=object))"
            ]
          },
          "execution_count": 19,
          "metadata": {},
          "output_type": "execute_result"
        }
      ],
      "source": [
        "num_classes=len(label_encoder.classes_)\n",
        "class_names=label_encoder.classes_\n",
        "num_classes,class_names"
      ]
    },
    {
      "cell_type": "code",
      "execution_count": null,
      "metadata": {
        "colab": {
          "base_uri": "https://localhost:8080/",
          "height": 125
        },
        "id": "7mysuUTnRDVB",
        "outputId": "6146ae50-64de-42dc-e165-a51bad54d878"
      },
      "outputs": [
        {
          "data": {
            "text/html": [
              "<style>#sk-container-id-1 {color: black;background-color: white;}#sk-container-id-1 pre{padding: 0;}#sk-container-id-1 div.sk-toggleable {background-color: white;}#sk-container-id-1 label.sk-toggleable__label {cursor: pointer;display: block;width: 100%;margin-bottom: 0;padding: 0.3em;box-sizing: border-box;text-align: center;}#sk-container-id-1 label.sk-toggleable__label-arrow:before {content: \"▸\";float: left;margin-right: 0.25em;color: #696969;}#sk-container-id-1 label.sk-toggleable__label-arrow:hover:before {color: black;}#sk-container-id-1 div.sk-estimator:hover label.sk-toggleable__label-arrow:before {color: black;}#sk-container-id-1 div.sk-toggleable__content {max-height: 0;max-width: 0;overflow: hidden;text-align: left;background-color: #f0f8ff;}#sk-container-id-1 div.sk-toggleable__content pre {margin: 0.2em;color: black;border-radius: 0.25em;background-color: #f0f8ff;}#sk-container-id-1 input.sk-toggleable__control:checked~div.sk-toggleable__content {max-height: 200px;max-width: 100%;overflow: auto;}#sk-container-id-1 input.sk-toggleable__control:checked~label.sk-toggleable__label-arrow:before {content: \"▾\";}#sk-container-id-1 div.sk-estimator input.sk-toggleable__control:checked~label.sk-toggleable__label {background-color: #d4ebff;}#sk-container-id-1 div.sk-label input.sk-toggleable__control:checked~label.sk-toggleable__label {background-color: #d4ebff;}#sk-container-id-1 input.sk-hidden--visually {border: 0;clip: rect(1px 1px 1px 1px);clip: rect(1px, 1px, 1px, 1px);height: 1px;margin: -1px;overflow: hidden;padding: 0;position: absolute;width: 1px;}#sk-container-id-1 div.sk-estimator {font-family: monospace;background-color: #f0f8ff;border: 1px dotted black;border-radius: 0.25em;box-sizing: border-box;margin-bottom: 0.5em;}#sk-container-id-1 div.sk-estimator:hover {background-color: #d4ebff;}#sk-container-id-1 div.sk-parallel-item::after {content: \"\";width: 100%;border-bottom: 1px solid gray;flex-grow: 1;}#sk-container-id-1 div.sk-label:hover label.sk-toggleable__label {background-color: #d4ebff;}#sk-container-id-1 div.sk-serial::before {content: \"\";position: absolute;border-left: 1px solid gray;box-sizing: border-box;top: 0;bottom: 0;left: 50%;z-index: 0;}#sk-container-id-1 div.sk-serial {display: flex;flex-direction: column;align-items: center;background-color: white;padding-right: 0.2em;padding-left: 0.2em;position: relative;}#sk-container-id-1 div.sk-item {position: relative;z-index: 1;}#sk-container-id-1 div.sk-parallel {display: flex;align-items: stretch;justify-content: center;background-color: white;position: relative;}#sk-container-id-1 div.sk-item::before, #sk-container-id-1 div.sk-parallel-item::before {content: \"\";position: absolute;border-left: 1px solid gray;box-sizing: border-box;top: 0;bottom: 0;left: 50%;z-index: -1;}#sk-container-id-1 div.sk-parallel-item {display: flex;flex-direction: column;z-index: 1;position: relative;background-color: white;}#sk-container-id-1 div.sk-parallel-item:first-child::after {align-self: flex-end;width: 50%;}#sk-container-id-1 div.sk-parallel-item:last-child::after {align-self: flex-start;width: 50%;}#sk-container-id-1 div.sk-parallel-item:only-child::after {width: 0;}#sk-container-id-1 div.sk-dashed-wrapped {border: 1px dashed gray;margin: 0 0.4em 0.5em 0.4em;box-sizing: border-box;padding-bottom: 0.4em;background-color: white;}#sk-container-id-1 div.sk-label label {font-family: monospace;font-weight: bold;display: inline-block;line-height: 1.2em;}#sk-container-id-1 div.sk-label-container {text-align: center;}#sk-container-id-1 div.sk-container {/* jupyter's `normalize.less` sets `[hidden] { display: none; }` but bootstrap.min.css set `[hidden] { display: none !important; }` so we also need the `!important` here to be able to override the default hidden behavior on the sphinx rendered scikit-learn.org. See: https://github.com/scikit-learn/scikit-learn/issues/21755 */display: inline-block !important;position: relative;}#sk-container-id-1 div.sk-text-repr-fallback {display: none;}</style><div id=\"sk-container-id-1\" class=\"sk-top-container\"><div class=\"sk-text-repr-fallback\"><pre>Pipeline(steps=[(&#x27;tf-idf&#x27;, TfidfVectorizer()), (&#x27;clf&#x27;, MultinomialNB())])</pre><b>In a Jupyter environment, please rerun this cell to show the HTML representation or trust the notebook. <br />On GitHub, the HTML representation is unable to render, please try loading this page with nbviewer.org.</b></div><div class=\"sk-container\" hidden><div class=\"sk-item sk-dashed-wrapped\"><div class=\"sk-label-container\"><div class=\"sk-label sk-toggleable\"><input class=\"sk-toggleable__control sk-hidden--visually\" id=\"sk-estimator-id-1\" type=\"checkbox\" ><label for=\"sk-estimator-id-1\" class=\"sk-toggleable__label sk-toggleable__label-arrow\">Pipeline</label><div class=\"sk-toggleable__content\"><pre>Pipeline(steps=[(&#x27;tf-idf&#x27;, TfidfVectorizer()), (&#x27;clf&#x27;, MultinomialNB())])</pre></div></div></div><div class=\"sk-serial\"><div class=\"sk-item\"><div class=\"sk-estimator sk-toggleable\"><input class=\"sk-toggleable__control sk-hidden--visually\" id=\"sk-estimator-id-2\" type=\"checkbox\" ><label for=\"sk-estimator-id-2\" class=\"sk-toggleable__label sk-toggleable__label-arrow\">TfidfVectorizer</label><div class=\"sk-toggleable__content\"><pre>TfidfVectorizer()</pre></div></div></div><div class=\"sk-item\"><div class=\"sk-estimator sk-toggleable\"><input class=\"sk-toggleable__control sk-hidden--visually\" id=\"sk-estimator-id-3\" type=\"checkbox\" ><label for=\"sk-estimator-id-3\" class=\"sk-toggleable__label sk-toggleable__label-arrow\">MultinomialNB</label><div class=\"sk-toggleable__content\"><pre>MultinomialNB()</pre></div></div></div></div></div></div></div>"
            ],
            "text/plain": [
              "Pipeline(steps=[('tf-idf', TfidfVectorizer()), ('clf', MultinomialNB())])"
            ]
          },
          "execution_count": 20,
          "metadata": {},
          "output_type": "execute_result"
        }
      ],
      "source": [
        "from sklearn.feature_extraction.text import TfidfVectorizer\n",
        "from sklearn.naive_bayes import MultinomialNB\n",
        "from sklearn.pipeline import Pipeline\n",
        "model_0=Pipeline([(\"tf-idf\",TfidfVectorizer()),\n",
        "                  (\"clf\",MultinomialNB())])\n",
        "model_0.fit(X=train_sentences,y=train_labels_encoded)"
      ]
    },
    {
      "cell_type": "code",
      "execution_count": null,
      "metadata": {
        "colab": {
          "base_uri": "https://localhost:8080/"
        },
        "id": "2eBe7D8bU9Nn",
        "outputId": "7f5136da-4879-4d84-bc4f-cfcd3a61482e"
      },
      "outputs": [
        {
          "data": {
            "text/plain": [
              "0.7218323844829869"
            ]
          },
          "execution_count": 21,
          "metadata": {},
          "output_type": "execute_result"
        }
      ],
      "source": [
        "model_0.score(X=val_sentences,y=val_labels_encoded)"
      ]
    },
    {
      "cell_type": "code",
      "execution_count": null,
      "metadata": {
        "colab": {
          "base_uri": "https://localhost:8080/"
        },
        "id": "haboaQ7kV6Rr",
        "outputId": "db7a1630-b91d-413c-e98f-eb9eddc4ff60"
      },
      "outputs": [
        {
          "data": {
            "text/plain": [
              "array([4, 1, 3, ..., 4, 4, 1])"
            ]
          },
          "execution_count": 22,
          "metadata": {},
          "output_type": "execute_result"
        }
      ],
      "source": [
        "baseline_preds=model_0.predict(val_sentences)\n",
        "baseline_preds"
      ]
    },
    {
      "cell_type": "code",
      "execution_count": null,
      "metadata": {
        "id": "uLksySvCWUSE"
      },
      "outputs": [],
      "source": [
        "from sklearn.metrics import accuracy_score, precision_recall_fscore_support\n",
        "\n",
        "def calculate_results(y_true, y_pred):\n",
        "  \"\"\"\n",
        "  Calculates model accuracy, precision, recall and f1 score of a binary classification model.\n",
        "  Args:\n",
        "      y_true: true labels in the form of a 1D array\n",
        "      y_pred: predicted labels in the form of a 1D array\n",
        "  Returns a dictionary of accuracy, precision, recall, f1-score.\n",
        "  \"\"\"\n",
        "  # Calculate model accuracy\n",
        "  model_accuracy = accuracy_score(y_true, y_pred) * 100\n",
        "  # Calculate model precision, recall and f1 score using \"weighted average\n",
        "  model_precision, model_recall, model_f1, _ = precision_recall_fscore_support(y_true, y_pred, average=\"weighted\")\n",
        "  model_results = {\"accuracy\": model_accuracy,\n",
        "                  \"precision\": model_precision,\n",
        "                  \"recall\": model_recall,\n",
        "                  \"f1\": model_f1}\n",
        "  return model_results"
      ]
    },
    {
      "cell_type": "code",
      "execution_count": null,
      "metadata": {
        "colab": {
          "base_uri": "https://localhost:8080/"
        },
        "id": "81oLAmn0cacG",
        "outputId": "ad11bf81-7cf1-451e-ea42-3b14e10c03ad"
      },
      "outputs": [
        {
          "data": {
            "text/plain": [
              "{'accuracy': 72.1832384482987,\n",
              " 'precision': 0.7186466952323352,\n",
              " 'recall': 0.7218323844829869,\n",
              " 'f1': 0.6989250353450294}"
            ]
          },
          "execution_count": 24,
          "metadata": {},
          "output_type": "execute_result"
        }
      ],
      "source": [
        "baseline_results=calculate_results(val_labels_encoded,baseline_preds)\n",
        "baseline_results"
      ]
    },
    {
      "cell_type": "code",
      "execution_count": null,
      "metadata": {
        "id": "O7Isu6CXc7A_"
      },
      "outputs": [],
      "source": [
        "import tensorflow as tf\n",
        "import numpy as np\n",
        "from tensorflow.keras import layers"
      ]
    },
    {
      "cell_type": "code",
      "execution_count": null,
      "metadata": {
        "colab": {
          "base_uri": "https://localhost:8080/"
        },
        "id": "1xRNKYCklaaK",
        "outputId": "452d1906-e916-4ce1-e244-f75efd728c41"
      },
      "outputs": [
        {
          "data": {
            "text/plain": [
              "26.338269273494777"
            ]
          },
          "execution_count": 26,
          "metadata": {},
          "output_type": "execute_result"
        }
      ],
      "source": [
        "sent_lens=[len(sentence.split()) for sentence in train_sentences]\n",
        "avg_sent_len=np.mean(sent_lens)\n",
        "avg_sent_len"
      ]
    },
    {
      "cell_type": "code",
      "execution_count": null,
      "metadata": {
        "colab": {
          "base_uri": "https://localhost:8080/",
          "height": 569
        },
        "id": "dej9OeBCBVNz",
        "outputId": "36c8e5c2-b145-41df-e40d-dfda26232a2f"
      },
      "outputs": [
        {
          "data": {
            "text/plain": [
              "(array([4.2075e+04, 8.3771e+04, 3.6877e+04, 1.0945e+04, 3.9310e+03,\n",
              "        1.4450e+03, 5.6000e+02, 2.2600e+02, 1.0100e+02, 4.5000e+01,\n",
              "        2.0000e+01, 1.2000e+01, 9.0000e+00, 1.0000e+01, 6.0000e+00,\n",
              "        2.0000e+00, 3.0000e+00, 0.0000e+00, 1.0000e+00, 1.0000e+00]),\n",
              " array([  1.  ,  15.75,  30.5 ,  45.25,  60.  ,  74.75,  89.5 , 104.25,\n",
              "        119.  , 133.75, 148.5 , 163.25, 178.  , 192.75, 207.5 , 222.25,\n",
              "        237.  , 251.75, 266.5 , 281.25, 296.  ]),\n",
              " <BarContainer object of 20 artists>)"
            ]
          },
          "execution_count": 27,
          "metadata": {},
          "output_type": "execute_result"
        },
        {
          "data": {
            "image/png": "[encoded data removed]",
            "text/plain": [
              "<Figure size 640x480 with 1 Axes>"
            ]
          },
          "metadata": {},
          "output_type": "display_data"
        }
      ],
      "source": [
        "plt.hist(sent_lens,bins=20)"
      ]
    },
    {
      "cell_type": "code",
      "execution_count": null,
      "metadata": {
        "colab": {
          "base_uri": "https://localhost:8080/"
        },
        "id": "dOWxo5C8BpBJ",
        "outputId": "b3138d8a-f553-4973-f5ac-12da26bed1c0"
      },
      "outputs": [
        {
          "data": {
            "text/plain": [
              "55"
            ]
          },
          "execution_count": 28,
          "metadata": {},
          "output_type": "execute_result"
        }
      ],
      "source": [
        "# calculating how long of a sentence cover 95% of example.\n",
        "output_seq_len=int(np.percentile(sent_lens,95))\n",
        "output_seq_len"
      ]
    },
    {
      "cell_type": "code",
      "execution_count": null,
      "metadata": {
        "id": "QHp1TA0NCeoB"
      },
      "outputs": [],
      "source": [
        "from tensorflow.keras.layers import TextVectorization\n",
        "text_vectorizer=TextVectorization(\n",
        "    max_tokens=68000,  \n",
        "    output_sequence_length=output_seq_len\n",
        ")"
      ]
    },
    {
      "cell_type": "code",
      "execution_count": null,
      "metadata": {
        "id": "2QYWuqisFGtG"
      },
      "outputs": [],
      "source": [
        "text_vectorizer.adapt(train_sentences)"
      ]
    },
    {
      "cell_type": "code",
      "execution_count": null,
      "metadata": {
        "colab": {
          "base_uri": "https://localhost:8080/"
        },
        "id": "5ujkoQBOFz8t",
        "outputId": "f211f45b-0a86-423a-e722-5d3c3c7192e3"
      },
      "outputs": [
        {
          "name": "stdout",
          "output_type": "stream",
          "text": [
            "Text:\n",
            "the proportion of patients with estimated glomerular filtration rate @ ml/min per @ m ( @ ) in the ldt + adv group increased from @ % ( @/@ ) at baseline to @ % ( @/@ ) at week @ , while that in the lam + adv group decreased from @ % ( @/@ ) at baseline to @ % ( @/@ ) at week @ .\n",
            "\n",
            "Length of text: 69\n",
            "\n",
            "Vectorized text: [[   2  443    4   12    7  597 2270 2123   78 2136  160  358    5    2\n",
            "  8040 5156   13   96   27   15   49    6   15   89  258   28    5    2\n",
            "  5829 5156   13  212   27   15   49    6   15   89    0    0    0    0\n",
            "     0    0    0    0    0    0    0    0    0    0    0    0    0]]\n"
          ]
        }
      ],
      "source": [
        "import random\n",
        "target_sentence=random.choice(train_sentences)\n",
        "print(f\"Text:\\n{target_sentence}\")\n",
        "print(f\"\\nLength of text: {len(target_sentence.split())}\")\n",
        "print(f\"\\nVectorized text: {text_vectorizer([target_sentence])}\")"
      ]
    },
    {
      "cell_type": "code",
      "execution_count": null,
      "metadata": {
        "colab": {
          "base_uri": "https://localhost:8080/"
        },
        "id": "f-F7PYTmG6TE",
        "outputId": "23baf801-3a65-4100-9f86-6242f09f12ef"
      },
      "outputs": [
        {
          "name": "stdout",
          "output_type": "stream",
          "text": [
            "Number of words in vocab: 64841\n",
            "Most common words in the vocab: ['', '[UNK]', 'the', 'and', 'of']\n",
            "Least common words in the vocab: ['aainduced', 'aaigroup', 'aachener', 'aachen', 'aaacp']\n"
          ]
        }
      ],
      "source": [
        "rct_20k_text_vocab=text_vectorizer.get_vocabulary()\n",
        "print(f\"Number of words in vocab: {len(rct_20k_text_vocab)}\")\n",
        "print(f\"Most common words in the vocab: {rct_20k_text_vocab[:5]}\")\n",
        "print(f\"Least common words in the vocab: {rct_20k_text_vocab[-5:]}\")"
      ]
    },
    {
      "cell_type": "markdown",
      "metadata": {
        "id": "z6DZU8-_KI-p"
      },
      "source": [
        "# token embedding"
      ]
    },
    {
      "cell_type": "code",
      "execution_count": null,
      "metadata": {
        "id": "600---fgIoFY"
      },
      "outputs": [],
      "source": [
        "token_embed=layers.Embedding(input_dim=len(rct_20k_text_vocab),output_dim=128,mask_zero=True,name='token_embedding')"
      ]
    },
    {
      "cell_type": "code",
      "execution_count": null,
      "metadata": {
        "colab": {
          "base_uri": "https://localhost:8080/"
        },
        "id": "7aX1CBFvLhui",
        "outputId": "1390dc42-dd78-4e10-ed23-05d95bdd9a05"
      },
      "outputs": [
        {
          "name": "stdout",
          "output_type": "stream",
          "text": [
            "Sentence before vectorization:\n",
            " the proportion of patients with estimated glomerular filtration rate @ ml/min per @ m ( @ ) in the ldt + adv group increased from @ % ( @/@ ) at baseline to @ % ( @/@ ) at week @ , while that in the lam + adv group decreased from @ % ( @/@ ) at baseline to @ % ( @/@ ) at week @ .\n",
            "\n",
            "Sentence after vectorization (before embedding):\n",
            "[[   2  443    4   12    7  597 2270 2123   78 2136  160  358    5    2\n",
            "  8040 5156   13   96   27   15   49    6   15   89  258   28    5    2\n",
            "  5829 5156   13  212   27   15   49    6   15   89    0    0    0    0\n",
            "     0    0    0    0    0    0    0    0    0    0    0    0    0]]\n",
            "\n",
            "Sentence after embedding:\n",
            " [[[ 1.7283075e-03 -1.9819403e-02 -7.2799623e-05 ... -3.7063312e-02\n",
            "    1.9965958e-02 -4.3044865e-02]\n",
            "  [ 2.7052734e-02 -3.3064678e-02  5.4056272e-03 ... -3.4366325e-02\n",
            "    1.7239559e-02 -1.0407280e-02]\n",
            "  [ 4.7868554e-02 -4.1686632e-02  3.6407519e-02 ... -1.3592433e-02\n",
            "   -2.7709438e-02 -2.2482026e-02]\n",
            "  ...\n",
            "  [-4.7393430e-02 -3.7923526e-02 -2.9754186e-02 ...  7.8334659e-04\n",
            "   -1.1504471e-02 -4.9817037e-02]\n",
            "  [-4.7393430e-02 -3.7923526e-02 -2.9754186e-02 ...  7.8334659e-04\n",
            "   -1.1504471e-02 -4.9817037e-02]\n",
            "  [-4.7393430e-02 -3.7923526e-02 -2.9754186e-02 ...  7.8334659e-04\n",
            "   -1.1504471e-02 -4.9817037e-02]]]\n",
            "\n",
            "Embedded sentence shape: (1, 55, 128)\n"
          ]
        }
      ],
      "source": [
        "print(f\"Sentence before vectorization:\\n {target_sentence}\\n\")\n",
        "vectorized_sentence=text_vectorizer([target_sentence])\n",
        "print(f\"Sentence after vectorization (before embedding):\\n{vectorized_sentence}\\n\")\n",
        "embedded_sentence=token_embed(vectorized_sentence)\n",
        "print(f\"Sentence after embedding:\\n {embedded_sentence}\\n\")\n",
        "print(f\"Embedded sentence shape: {embedded_sentence.shape}\")"
      ]
    },
    {
      "cell_type": "code",
      "execution_count": null,
      "metadata": {
        "colab": {
          "base_uri": "https://localhost:8080/"
        },
        "id": "iTvPWT47NDFb",
        "outputId": "00f9510f-d7fe-453c-df84-e39ed4bc0a6c"
      },
      "outputs": [
        {
          "data": {
            "text/plain": [
              "<_TensorSliceDataset element_spec=(TensorSpec(shape=(), dtype=tf.string, name=None), TensorSpec(shape=(5,), dtype=tf.float64, name=None))>"
            ]
          },
          "execution_count": 35,
          "metadata": {},
          "output_type": "execute_result"
        }
      ],
      "source": [
        "train_dataset=tf.data.Dataset.from_tensor_slices((train_sentences,train_labels_one_hot))\n",
        "valid_dataset=tf.data.Dataset.from_tensor_slices((val_sentences,val_labels_one_hot))\n",
        "test_dataset=tf.data.Dataset.from_tensor_slices((test_sentences,test_labels_one_hot))\n",
        "train_dataset"
      ]
    },
    {
      "cell_type": "code",
      "execution_count": null,
      "metadata": {
        "colab": {
          "base_uri": "https://localhost:8080/"
        },
        "id": "iC28jOVeVN_z",
        "outputId": "4deefc1c-bf8f-4b90-8f4b-1d01d1810df8"
      },
      "outputs": [
        {
          "data": {
            "text/plain": [
              "<_PrefetchDataset element_spec=(TensorSpec(shape=(None,), dtype=tf.string, name=None), TensorSpec(shape=(None, 5), dtype=tf.float64, name=None))>"
            ]
          },
          "execution_count": 36,
          "metadata": {},
          "output_type": "execute_result"
        }
      ],
      "source": [
        "train_dataset=train_dataset.batch(32).prefetch(tf.data.AUTOTUNE)\n",
        "valid_dataset=valid_dataset.batch(32).prefetch(tf.data.AUTOTUNE)\n",
        "test_dataset=test_dataset.batch(32).prefetch(tf.data.AUTOTUNE)\n",
        "train_dataset"
      ]
    },
    {
      "cell_type": "markdown",
      "metadata": {
        "id": "c3-NiT9-ZPtC"
      },
      "source": [
        "# Conv1D with token embedding"
      ]
    },
    {
      "cell_type": "code",
      "execution_count": null,
      "metadata": {
        "id": "E8cTPVQxYAWA"
      },
      "outputs": [],
      "source": [
        "inputs=layers.Input(shape=(1,),dtype=tf.string)\n",
        "text_vectors=text_vectorizer(inputs)\n",
        "token_embeddings=token_embed(text_vectors)\n",
        "x=layers.Conv1D(64,kernel_size=5,padding=\"same\",activation=\"relu\")(token_embeddings)\n",
        "x=layers.GlobalAveragePooling1D()(x)\n",
        "outputs=layers.Dense(num_classes,activation=\"softmax\")(x)\n",
        "model_1=tf.keras.Model(inputs,outputs)\n",
        "model_1.compile(loss=\"categorical_crossentropy\",\n",
        "                optimizer=tf.keras.optimizers.Adam(),\n",
        "                metrics=['accuracy'])"
      ]
    },
    {
      "cell_type": "code",
      "execution_count": null,
      "metadata": {
        "colab": {
          "base_uri": "https://localhost:8080/"
        },
        "id": "Hm9OIYI3ghxT",
        "outputId": "df9bde37-e777-431a-c412-b2dbf7268402"
      },
      "outputs": [
        {
          "name": "stdout",
          "output_type": "stream",
          "text": [
            "Model: \"model\"\n",
            "_________________________________________________________________\n",
            " Layer (type)                Output Shape              Param #   \n",
            "=================================================================\n",
            " input_1 (InputLayer)        [(None, 1)]               0         \n",
            "                                                                 \n",
            " text_vectorization (TextVec  (None, 55)               0         \n",
            " torization)                                                     \n",
            "                                                                 \n",
            " token_embedding (Embedding)  (None, 55, 128)          8299648   \n",
            "                                                                 \n",
            " conv1d (Conv1D)             (None, 55, 64)            41024     \n",
            "                                                                 \n",
            " global_average_pooling1d (G  (None, 64)               0         \n",
            " lobalAveragePooling1D)                                          \n",
            "                                                                 \n",
            " dense (Dense)               (None, 5)                 325       \n",
            "                                                                 \n",
            "=================================================================\n",
            "Total params: 8,340,997\n",
            "Trainable params: 8,340,997\n",
            "Non-trainable params: 0\n",
            "_________________________________________________________________\n"
          ]
        }
      ],
      "source": [
        "model_1.summary()"
      ]
    },
    {
      "cell_type": "code",
      "execution_count": null,
      "metadata": {
        "colab": {
          "background_save": true,
          "base_uri": "https://localhost:8080/"
        },
        "id": "hJHtGq2jg4sV",
        "outputId": "220c9011-0f38-40d9-8076-26c70844239b"
      },
      "outputs": [
        {
          "name": "stdout",
          "output_type": "stream",
          "text": [
            "Epoch 1/3\n",
            "562/562 [==============================] - 72s 126ms/step - loss: 0.9184 - accuracy: 0.6379 - val_loss: 0.6817 - val_accuracy: 0.7404\n",
            "Epoch 2/3\n",
            "562/562 [==============================] - 67s 119ms/step - loss: 0.6544 - accuracy: 0.7590 - val_loss: 0.6305 - val_accuracy: 0.7699\n",
            "Epoch 3/3\n",
            "562/562 [==============================] - 68s 122ms/step - loss: 0.6175 - accuracy: 0.7745 - val_loss: 0.5984 - val_accuracy: 0.7812\n"
          ]
        }
      ],
      "source": [
        "history_model_1=model_1.fit(train_dataset,\n",
        "                            steps_per_epoch=int(0.1*len(train_dataset)),\n",
        "                            epochs=3,\n",
        "                            validation_data=valid_dataset,\n",
        "                            validation_steps=int(0.1*len(valid_dataset))\n",
        "                            )"
      ]
    },
    {
      "cell_type": "code",
      "execution_count": null,
      "metadata": {
        "colab": {
          "background_save": true
        },
        "id": "jCnagLRhk65f",
        "outputId": "c1140ce7-09f5-44a4-a2a5-47e8a46b50bd"
      },
      "outputs": [
        {
          "name": "stdout",
          "output_type": "stream",
          "text": [
            "945/945 [==============================] - 6s 6ms/step - loss: 0.5988 - accuracy: 0.7854\n"
          ]
        },
        {
          "data": {
            "text/plain": [
              "[0.5988134145736694, 0.7853502035140991]"
            ]
          },
          "execution_count": 40,
          "metadata": {},
          "output_type": "execute_result"
        }
      ],
      "source": [
        "model_1.evaluate(valid_dataset)"
      ]
    },
    {
      "cell_type": "code",
      "execution_count": null,
      "metadata": {
        "id": "2Ns9HoJ0lgCl"
      },
      "outputs": [],
      "source": [
        "model_1_pred_probs=model_1.predict(valid_dataset)\n",
        "model_1_pred_probs,model_1_pred_probs.shape"
      ]
    },
    {
      "cell_type": "code",
      "execution_count": null,
      "metadata": {
        "id": "uEjpopTKl1cR"
      },
      "outputs": [],
      "source": [
        "model_1_preds=tf.argmax(model_1_pred_probs,axis=1)\n",
        "model_1_preds"
      ]
    },
    {
      "cell_type": "code",
      "execution_count": null,
      "metadata": {
        "id": "VsDq9ePHmIn2"
      },
      "outputs": [],
      "source": [
        "model_1_results=calculate_results(y_true=val_labels_encoded,\n",
        "                                  y_pred=model_1_preds)\n",
        "model_1_results"
      ]
    },
    {
      "cell_type": "code",
      "execution_count": null,
      "metadata": {
        "id": "I5E6Sm56mffq"
      },
      "outputs": [],
      "source": [
        "baseline_results"
      ]
    },
    {
      "cell_type": "markdown",
      "metadata": {
        "id": "fLBnhu4XQOcj"
      },
      "source": [
        "# ***Transfering Learning*** from tensorflow hub"
      ]
    },
    {
      "cell_type": "code",
      "execution_count": null,
      "metadata": {
        "id": "npDqCwCqmrJY"
      },
      "outputs": [],
      "source": [
        "import tensorflow_hub as hub\n",
        "tf_hub_embedding_layer= hub.KerasLayer(\"https://tfhub.dev/google/universal-sentence-encoder/4\",trainable=False,name=\"universal_sentence_encoder\")"
      ]
    },
    {
      "cell_type": "code",
      "execution_count": null,
      "metadata": {
        "id": "5XJgjMqMSN0e"
      },
      "outputs": [],
      "source": [
        "random_train_sentence=random.choice(train_sentences)\n",
        "print(f\"Random sentence:\\n {random_train_sentence}\")\n",
        "use_embedded_sentence=tf_hub_embedding_layer([random_train_sentence])\n",
        "print(f\"sentence after embedding:\\n{use_embedded_sentence[:20]}\\n\")\n",
        "print(f\"Length of sentence embedding: {len(use_embedded_sentence[0])}\")"
      ]
    },
    {
      "cell_type": "markdown",
      "metadata": {
        "id": "tnM2atKVU9xR"
      },
      "source": [
        "# Feature Extraction using pretrained embedding using tensorflow hub\n"
      ]
    },
    {
      "cell_type": "code",
      "execution_count": null,
      "metadata": {
        "id": "cpma_uLQTfZJ"
      },
      "outputs": [],
      "source": [
        "inputs=layers.Input(shape=[],dtype=tf.string)\n",
        "pretrained_embedding=tf_hub_embedding_layer(inputs)\n",
        "x=layers.Dense(128,activation='relu')(pretrained_embedding)\n",
        "outputs=layers.Dense(num_classes,activation='softmax')(x)\n",
        "model_2=tf.keras.Model(inputs=inputs,outputs=outputs,name=\"model_2_USE_feature_extractor\")\n",
        "model_2.compile(loss=\"categorical_crossentropy\",optimizer=tf.keras.optimizers.Adam()\n",
        ",metrics=['accuracy'])"
      ]
    },
    {
      "cell_type": "code",
      "execution_count": null,
      "metadata": {
        "id": "mVpNwpATXMrW"
      },
      "outputs": [],
      "source": [
        "model_2.summary()"
      ]
    },
    {
      "cell_type": "code",
      "execution_count": null,
      "metadata": {
        "id": "31z3wW5uXO4T"
      },
      "outputs": [],
      "source": [
        "history_model_2=model_2.fit(train_dataset,\n",
        "                            epochs=3,\n",
        "                            steps_per_epoch=int(0.1*len(train_dataset)),\n",
        "                            validation_data=valid_dataset,\n",
        "                            validation_steps=int(0.1*len(valid_dataset))\n",
        "                            )"
      ]
    },
    {
      "cell_type": "code",
      "execution_count": null,
      "metadata": {
        "id": "iuGeb8ToX9O2"
      },
      "outputs": [],
      "source": [
        "model_2.evaluate(valid_dataset)"
      ]
    },
    {
      "cell_type": "code",
      "execution_count": null,
      "metadata": {
        "id": "A6kN4bV8YWP0"
      },
      "outputs": [],
      "source": [
        "model_2_pred_probs=model_2.predict(valid_dataset)\n",
        "model_2_pred_probs"
      ]
    },
    {
      "cell_type": "code",
      "execution_count": null,
      "metadata": {
        "id": "Zi-NrrspYfZa"
      },
      "outputs": [],
      "source": [
        "model_2_preds=tf.argmax(model_2_pred_probs,axis=1)\n",
        "model_2_preds"
      ]
    },
    {
      "cell_type": "code",
      "execution_count": null,
      "metadata": {
        "id": "_08JmpIpYqUY"
      },
      "outputs": [],
      "source": [
        "model_2_results=calculate_results(y_true=val_labels_encoded,\n",
        "                                  y_pred=model_2_preds)\n",
        "model_2_results"
      ]
    },
    {
      "cell_type": "markdown",
      "metadata": {
        "id": "BIFcwheVjoi0"
      },
      "source": [
        "# Conv1D with character embeddings"
      ]
    },
    {
      "cell_type": "code",
      "execution_count": null,
      "metadata": {
        "id": "CbCM-l0GY36e"
      },
      "outputs": [],
      "source": [
        "def split_chars(text):\n",
        "  return \" \".join(list(text))\n",
        "\n",
        "split_chars(random_train_sentence)"
      ]
    },
    {
      "cell_type": "code",
      "execution_count": null,
      "metadata": {
        "id": "pB7u3UMAkrmo"
      },
      "outputs": [],
      "source": [
        "train_chars=[split_chars(sentence) for sentence in train_sentences]\n",
        "val_chars=[split_chars(sentence) for sentence in val_sentences]\n",
        "test_chars=[split_chars(sentence) for sentence in test_sentences]\n",
        "train_chars[:5]"
      ]
    },
    {
      "cell_type": "code",
      "execution_count": null,
      "metadata": {
        "id": "45bSlx_hlYAW"
      },
      "outputs": [],
      "source": [
        "char_lens=[len(sentence) for sentence in train_sentences]\n",
        "mean_char_len=np.mean(char_lens)\n",
        "mean_char_len"
      ]
    },
    {
      "cell_type": "code",
      "execution_count": null,
      "metadata": {
        "id": "DKUBLTpC4VAy"
      },
      "outputs": [],
      "source": [
        "plt.hist(char_lens,bins=7)"
      ]
    },
    {
      "cell_type": "code",
      "execution_count": null,
      "metadata": {
        "id": "VKj_mi8m4fEZ"
      },
      "outputs": [],
      "source": [
        "output_seq_char_len=int(np.percentile(char_lens,95))\n",
        "output_seq_char_len"
      ]
    },
    {
      "cell_type": "code",
      "execution_count": null,
      "metadata": {
        "id": "wF7m1DhY4t8C"
      },
      "outputs": [],
      "source": [
        "#get all the keyboard character so we use their len as max_token\n",
        "import string\n",
        "alphabet=string.ascii_lowercase+string.digits+string.punctuation\n",
        "alphabet"
      ]
    },
    {
      "cell_type": "code",
      "execution_count": null,
      "metadata": {
        "id": "1wnoE8z557Tu"
      },
      "outputs": [],
      "source": [
        "NUM_CHAR_TOKENS=len(alphabet)+2\n",
        "char_vectorizer=TextVectorization(max_tokens=NUM_CHAR_TOKENS,\n",
        "                                  output_sequence_length=output_seq_char_len,\n",
        "                                  name='char_vecotrizer',\n",
        "                                  )"
      ]
    },
    {
      "cell_type": "code",
      "execution_count": null,
      "metadata": {
        "id": "UWw2csi16ro3"
      },
      "outputs": [],
      "source": [
        "char_vectorizer.adapt(train_chars)"
      ]
    },
    {
      "cell_type": "code",
      "execution_count": null,
      "metadata": {
        "id": "e-6HOIW87BKK"
      },
      "outputs": [],
      "source": [
        "char_vocab=char_vectorizer.get_vocabulary()\n",
        "print(f'Number of different characters in character vocab:{len(char_vocab)}')\n",
        "print(f'5 most common characters: {char_vocab[:5]}')\n",
        "print(f'5 least common characters: {char_vocab[-5:]}')"
      ]
    },
    {
      "cell_type": "code",
      "execution_count": null,
      "metadata": {
        "id": "F8rAo6Pd7JpJ"
      },
      "outputs": [],
      "source": [
        "random_train_chars=random.choice(train_chars)\n",
        "print(random_train_chars)\n",
        "vectorized_chars=char_vectorizer([random_train_chars])\n",
        "print(f\"\\vectorized chars:\\n{vectorized_chars}\")\n",
        "print(f\"\\nLength of vectorized chars: {len(vectorized_chars[0])}\")"
      ]
    },
    {
      "cell_type": "markdown",
      "metadata": {
        "id": "3ayqLS-6AcTu"
      },
      "source": [
        "# Creating a character-level embedding"
      ]
    },
    {
      "cell_type": "code",
      "execution_count": null,
      "metadata": {
        "id": "7qdKCoUL9roS"
      },
      "outputs": [],
      "source": [
        "char_embed=layers.Embedding(input_dim=len(char_vocab),output_dim=25,\n",
        "                            mask_zero=True,\n",
        "                            name='char_embedding')\n"
      ]
    },
    {
      "cell_type": "code",
      "execution_count": null,
      "metadata": {
        "id": "uT8gW1Cd_4nT"
      },
      "outputs": [],
      "source": [
        "print(f\"char before vectorization:\\n {random_train_chars}\\n\")\n",
        "vectorized_char=char_vectorizer([random_train_chars])\n",
        "print(f\"Sentence after vectorization (before embedding):\\n{vectorized_char}\\n\")\n",
        "char_embed_example=char_embed(vectorized_char)\n",
        "print(f\" after embedding:\\n {char_embed_example}\\n\")\n",
        "print(f\"Embedded sentence shape: {char_embed_example.shape}\")"
      ]
    },
    {
      "cell_type": "code",
      "execution_count": null,
      "metadata": {
        "id": "GKAtC9A1BSfu"
      },
      "outputs": [],
      "source": [
        "inputs=layers.Input(shape=(1,),dtype=tf.string)\n",
        "char_vectors=char_vectorizer(inputs)\n",
        "char_embeddings=char_embed(char_vectors)\n",
        "x=layers.Conv1D(64,kernel_size=5,padding=\"same\",activation=\"relu\")(char_embeddings)\n",
        "x=layers.GlobalMaxPool1D()(x)\n",
        "outputs=layers.Dense(num_classes,activation=\"softmax\")(x)\n",
        "model_3=tf.keras.Model(inputs,\n",
        "                       outputs,\n",
        "                       name='model_3_conv1d_char_embedding'\n",
        "                       )\n",
        "model_3.compile(loss=\"categorical_crossentropy\",\n",
        "                optimizer=tf.keras.optimizers.Adam(),\n",
        "                metrics=['accuracy'])"
      ]
    },
    {
      "cell_type": "code",
      "execution_count": null,
      "metadata": {
        "id": "u-hJEYP6E0h6"
      },
      "outputs": [],
      "source": [
        "model_3.summary()"
      ]
    },
    {
      "cell_type": "code",
      "execution_count": null,
      "metadata": {
        "id": "efJfapKSE4PV"
      },
      "outputs": [],
      "source": [
        "train_char_dataset=tf.data.Dataset.from_tensor_slices((train_chars,train_labels_one_hot)).batch(32).prefetch(tf.data.AUTOTUNE)\n",
        "val_char_dataset=tf.data.Dataset.from_tensor_slices((val_chars,val_labels_one_hot)).batch(32).prefetch(tf.data.AUTOTUNE)\n",
        "test_char_dataset=tf.data.Dataset.from_tensor_slices((test_chars,test_labels_one_hot)).batch(32).prefetch(tf.data.AUTOTUNE)"
      ]
    },
    {
      "cell_type": "code",
      "execution_count": null,
      "metadata": {
        "id": "GKdRrx_BGiUF"
      },
      "outputs": [],
      "source": [
        "train_char_dataset"
      ]
    },
    {
      "cell_type": "code",
      "execution_count": null,
      "metadata": {
        "colab": {
          "background_save": true
        },
        "id": "FxOdi7wEG_Eq",
        "outputId": "5a87b00a-38cb-483d-d9ff-82dcaaecad2a"
      },
      "outputs": [
        {
          "name": "stdout",
          "output_type": "stream",
          "text": [
            "Epoch 1/3\n",
            "562/562 [==============================] - 14s 23ms/step - loss: 1.2811 - accuracy: 0.4880 - val_loss: 1.0495 - val_accuracy: 0.5834\n",
            "Epoch 2/3\n",
            "562/562 [==============================] - 13s 23ms/step - loss: 1.0039 - accuracy: 0.6011 - val_loss: 0.9386 - val_accuracy: 0.6290\n",
            "Epoch 3/3\n",
            "562/562 [==============================] - 13s 23ms/step - loss: 0.9244 - accuracy: 0.6436 - val_loss: 0.8723 - val_accuracy: 0.6526\n"
          ]
        }
      ],
      "source": [
        "model_3_history=model_3.fit(train_char_dataset,\n",
        "                            steps_per_epoch=int(0.1*len(train_char_dataset)),\n",
        "                            epochs=3,\n",
        "                            validation_data=val_char_dataset,\n",
        "                            validation_steps=int(0.1*len(val_char_dataset)))"
      ]
    },
    {
      "cell_type": "code",
      "execution_count": null,
      "metadata": {
        "id": "6SEdyhhbHlj6"
      },
      "outputs": [],
      "source": [
        "model_3_pred_probs=model_3.predict(val_char_dataset)\n",
        "model_3_pred_probs"
      ]
    },
    {
      "cell_type": "code",
      "execution_count": null,
      "metadata": {
        "id": "dKcFPm-FIcH4"
      },
      "outputs": [],
      "source": [
        "model_3_preds=tf.argmax(model_3_pred_probs,axis=1)\n",
        "model_3_preds"
      ]
    },
    {
      "cell_type": "code",
      "execution_count": null,
      "metadata": {
        "id": "OnGd9owfIsu8"
      },
      "outputs": [],
      "source": [
        "model_3_results=calculate_results(y_true=val_labels_encoded,\n",
        "                                  y_pred=model_3_preds)\n",
        "model_3_results"
      ]
    },
    {
      "cell_type": "markdown",
      "metadata": {
        "id": "E20AfBUIL-6j"
      },
      "source": [
        "# Combining pretrained token embedding with character embedding"
      ]
    },
    {
      "cell_type": "code",
      "execution_count": null,
      "metadata": {
        "id": "9y-KrygwI3pi"
      },
      "outputs": [],
      "source": [
        "# token_inputs=layers.Input(shape=[],dtype=tf.string,name=\"token_input\")\n",
        "# token_embeddings=tf_hub_embedding_layer(token_inputs)\n",
        "# token_output=layers.Dense(128,activation='relu')(token_embeddings)\n",
        "# token_model=tf.keras.Model(inputs=token_inputs,\n",
        "#                            outputs=token_output)\n",
        "\n",
        "token_inputs=layers.Input(shape=(1,),dtype=tf.string)\n",
        "text_vectors=text_vectorizer(inputs)\n",
        "token_embeddings=token_embed(text_vectors)\n",
        "x=layers.Conv1D(64,kernel_size=5,padding=\"same\",activation=\"relu\")(token_embeddings)\n",
        "x=layers.GlobalAveragePooling1D()(x)\n",
        "token_outputs=layers.Dense(32,activation=\"relu\")(x)\n",
        "token_model=tf.keras.Model(inputs,outputs)\n",
        "\n",
        "\n",
        "char_inputs=layers.Input(shape=(1,) ,dtype=tf.string,name='char_input')\n",
        "char_vectors=char_vectorizer(char_inputs)\n",
        "char_embeddings=char_embed(char_vectors)\n",
        "char_bi_lstm=layers.Bidirectional(layers.LSTM(24))(char_embeddings)\n",
        "char_model=tf.keras.Model(inputs=char_inputs,\n",
        "                          outputs=char_bi_lstm)\n",
        "\n",
        "token_char_concat=layers.Concatenate(name=\"token_char_hybrid\")([token_model.output,\n",
        "                                                                char_model.output])\n",
        "#dropout layers is use to prevent overfitting.\n",
        "combined_dropout=layers.Dropout(0.5)(token_char_concat)\n",
        "combined_dense=layers.Dense(128,activation='relu')(combined_dropout)\n",
        "final_dropout=layers.Dropout(0.5)(combined_dense)\n",
        "output_layer=layers.Dense(num_classes,activation='softmax')(final_dropout)\n",
        "\n",
        "model_4=tf.keras.Model(inputs=[token_model.input,char_model.input],\n",
        "                       outputs=output_layer,\n",
        "                       name=\"model_4_token_and_char_embeddings\"\n",
        "                       )"
      ]
    },
    {
      "cell_type": "code",
      "execution_count": null,
      "metadata": {
        "id": "ju4lsicpU9Z4"
      },
      "outputs": [],
      "source": [
        "model_4.summary()"
      ]
    },
    {
      "cell_type": "code",
      "execution_count": null,
      "metadata": {
        "id": "zFvY-XtvVlsN"
      },
      "outputs": [],
      "source": [
        "from keras.utils import plot_model\n",
        "plot_model(model_4,show_shapes=True)"
      ]
    },
    {
      "cell_type": "code",
      "execution_count": null,
      "metadata": {
        "id": "z8fn8tmVWMkq"
      },
      "outputs": [],
      "source": [
        "model_4.compile(loss=\"categorical_crossentropy\",\n",
        "                optimizer=tf.keras.optimizers.Adam(),\n",
        "                metrics=['accuracy'])"
      ]
    },
    {
      "cell_type": "code",
      "execution_count": null,
      "metadata": {
        "id": "NKNZsBSrZw23"
      },
      "outputs": [],
      "source": [
        "# train_token_char_dataset=tf.data.Dataset.from_tensor_slices(((train_sentences,train_chars),train_labels_one_hot)).batch(32).prefetch(tf.data.AUTOTUNE)\n",
        "# val_token_char_dataset=tf.data.Dataset.from_tensor_slices(((val_sentences,val_chars),val_labels_one_hot)).batch(32).prefetch(tf.data.AUTOTUNE)\n",
        "# test_token_char_dataset=tf.data.Dataset.from_tensor_slices(((test_sentences,test_chars),test_labels_one_hot)).batch(32).prefetch(tf.data.AUTOTUNE)"
      ]
    },
    {
      "cell_type": "code",
      "execution_count": null,
      "metadata": {
        "id": "kQCrhdfFcOQ8"
      },
      "outputs": [],
      "source": [
        "train_char_token_data=tf.data.Dataset.from_tensor_slices((train_sentences,train_chars))\n",
        "train_char_token_labels=tf.data.Dataset.from_tensor_slices(train_labels_one_hot)\n",
        "train_char_token_dataset=tf.data.Dataset.zip((train_char_token_data,train_char_token_labels))\n",
        "train_char_token_dataset=train_char_token_dataset.batch(32).prefetch(tf.data.AUTOTUNE)\n",
        "\n",
        "val_char_token_data=tf.data.Dataset.from_tensor_slices((val_sentences,val_chars))\n",
        "val_char_token_labels=tf.data.Dataset.from_tensor_slices(val_labels_one_hot)\n",
        "val_char_token_dataset=tf.data.Dataset.zip((val_char_token_data,val_char_token_labels))\n",
        "val_char_token_dataset=val_char_token_dataset.batch(32).prefetch(tf.data.AUTOTUNE)\n",
        "\n",
        "test_char_token_data=tf.data.Dataset.from_tensor_slices((test_sentences,test_chars))\n",
        "test_char_token_labels=tf.data.Dataset.from_tensor_slices(test_labels_one_hot)\n",
        "test_char_token_dataset=tf.data.Dataset.zip((test_char_token_data,test_char_token_labels))\n",
        "test_char_token_dataset=test_char_token_dataset.batch(32).prefetch(tf.data.AUTOTUNE)\n"
      ]
    },
    {
      "cell_type": "code",
      "execution_count": null,
      "metadata": {
        "id": "Vd6eQpfwfJCx"
      },
      "outputs": [],
      "source": [
        "# train_token_char_dataset"
      ]
    },
    {
      "cell_type": "code",
      "execution_count": null,
      "metadata": {
        "id": "y4ewphvqfQn2"
      },
      "outputs": [],
      "source": [
        "train_char_token_dataset"
      ]
    },
    {
      "cell_type": "code",
      "execution_count": null,
      "metadata": {
        "id": "yNiLywoAf6So"
      },
      "outputs": [],
      "source": [
        "# model_4_history=model_4.fit(train_token_char_dataset,\n",
        "#                             steps_per_epoch=int(0.1*len(train_token_char_dataset)),\n",
        "#                             epochs=3,\n",
        "#                             validation_data=val_token_char_dataset,\n",
        "#                             validation_steps=int(0.1*len(val_token_char_dataset)))"
      ]
    },
    {
      "cell_type": "code",
      "execution_count": null,
      "metadata": {
        "id": "dtYi7FWFgn09"
      },
      "outputs": [],
      "source": [
        "model_4_history=model_4.fit(train_char_token_dataset,\n",
        "                            steps_per_epoch=int(0.1*len(train_char_token_dataset)),\n",
        "                            epochs=3,\n",
        "                            validation_data=val_char_token_dataset,\n",
        "                            validation_steps=int(0.1*len(val_char_token_dataset)))"
      ]
    },
    {
      "cell_type": "code",
      "execution_count": null,
      "metadata": {
        "id": "-ORSGDtIhRC6"
      },
      "outputs": [],
      "source": [
        "model_4.evaluate(val_char_token_dataset)"
      ]
    },
    {
      "cell_type": "code",
      "execution_count": null,
      "metadata": {
        "id": "Zd2IYJyVtLzJ"
      },
      "outputs": [],
      "source": [
        "model_4_pred_probs=model_4.predict(val_char_token_dataset)"
      ]
    },
    {
      "cell_type": "code",
      "execution_count": null,
      "metadata": {
        "id": "4YrcaZidtYU4"
      },
      "outputs": [],
      "source": [
        "model_4_preds=tf.argmax(model_4_pred_probs,axis=1)\n",
        "model_4_preds"
      ]
    },
    {
      "cell_type": "code",
      "execution_count": null,
      "metadata": {
        "id": "PK1zsPkuuIPj"
      },
      "outputs": [],
      "source": [
        "model_4_results=calculate_results(y_true=val_labels_encoded,y_pred=model_4_preds)\n",
        "model_4_results"
      ]
    },
    {
      "cell_type": "code",
      "execution_count": null,
      "metadata": {
        "id": "nkkZKUGvuaRo"
      },
      "outputs": [],
      "source": [
        "model_1_results"
      ]
    },
    {
      "cell_type": "markdown",
      "metadata": {
        "id": "3puvrHHA8nXT"
      },
      "source": [
        "# token_embedding+character_embedding+positional_embedding"
      ]
    },
    {
      "cell_type": "code",
      "execution_count": null,
      "metadata": {
        "id": "uh-8kd5854j8"
      },
      "outputs": [],
      "source": [
        "train_df.head()"
      ]
    },
    {
      "cell_type": "code",
      "execution_count": null,
      "metadata": {
        "id": "heln7QP8B20Z"
      },
      "outputs": [],
      "source": [
        "train_df['line_number'].value_counts()"
      ]
    },
    {
      "cell_type": "code",
      "execution_count": null,
      "metadata": {
        "id": "g3EGVmHgFjcO"
      },
      "outputs": [],
      "source": [
        "train_line_numbers_one_hot=tf.one_hot(train_df['line_number'].to_numpy(),depth=15)\n",
        "val_line_numbers_one_hot=tf.one_hot(val_df['line_number'].to_numpy(),depth=15)\n",
        "test_line_numbers_one_hot=tf.one_hot(test_df['line_number'].to_numpy(),depth=15)\n",
        "train_line_numbers_one_hot[:10],train_line_numbers_one_hot.shape"
      ]
    },
    {
      "cell_type": "code",
      "execution_count": null,
      "metadata": {
        "id": "8roMSc9fIw_6"
      },
      "outputs": [],
      "source": [
        "train_df['total_lines'].value_counts()"
      ]
    },
    {
      "cell_type": "code",
      "execution_count": null,
      "metadata": {
        "id": "GmRhooo3ephZ"
      },
      "outputs": [],
      "source": [
        "train_df.total_lines.plot.hist()"
      ]
    },
    {
      "cell_type": "code",
      "execution_count": null,
      "metadata": {
        "id": "F9nvUTS6ex_0"
      },
      "outputs": [],
      "source": [
        "np.percentile(train_df.total_lines,98)"
      ]
    },
    {
      "cell_type": "code",
      "execution_count": null,
      "metadata": {
        "id": "qV0eD5cle_rm"
      },
      "outputs": [],
      "source": [
        "train_total_lines_one_hot=tf.one_hot(train_df['total_lines'].to_numpy(),depth=20)\n",
        "val_total_lines_one_hot=tf.one_hot(val_df['total_lines'].to_numpy(),depth=20)\n",
        "test_total_lines_one_hot=tf.one_hot(test_df['total_lines'].to_numpy(),depth=20)\n",
        "train_total_lines_one_hot.shape,train_total_lines_one_hot[:10]"
      ]
    },
    {
      "cell_type": "markdown",
      "metadata": {
        "id": "BnboDB3lkvdb"
      },
      "source": [
        "# Tibrid Model\n",
        "create token model and character model and concatenate them then create model with line_number and total_line feature and concatenate all the model."
      ]
    },
    {
      "cell_type": "code",
      "execution_count": null,
      "metadata": {
        "id": "y5TTaOQ2fm0z"
      },
      "outputs": [],
      "source": [
        "#token model\n",
        "token_inputs=layers.Input(shape=[],dtype=\"string\",name=\"token_input\")\n",
        "token_embeddings=tf_hub_embedding_layer(token_inputs)\n",
        "token_outputs=layers.Dense(128,activation='relu')(token_embeddings)\n",
        "token_model=tf.keras.Model(inputs=token_inputs,outputs=token_outputs)\n",
        "# token_inputs=layers.Input(shape=(1,),dtype=tf.string)\n",
        "# text_vectors=text_vectorizer(inputs)\n",
        "# token_embeddings=token_embed(text_vectors)\n",
        "# x=layers.Conv1D(64,kernel_size=5,padding=\"same\",activation=\"relu\")(token_embeddings)\n",
        "# x=layers.GlobalAveragePooling1D()(x)\n",
        "# token_outputs=layers.Dense(32,activation=\"relu\")(x)\n",
        "# token_model=tf.keras.Model(inputs,outputs)\n",
        "\n",
        "#character model \n",
        "# here the shape is(1,) because When using `TextVectorization` \n",
        "#to tokenize strings, \n",
        "#the input rank must be 1 or the last shape dimension must be 1\n",
        "char_inputs=layers.Input(shape=(1,),dtype=\"string\",name='char_inputs')\n",
        "char_vectors=char_vectorizer(char_inputs)\n",
        "char_embeddings=char_embed(char_vectors)\n",
        "char_bi_lstm=layers.Bidirectional(layers.LSTM(24))(char_embeddings)\n",
        "char_model=tf.keras.Model(inputs=char_inputs,outputs=char_bi_lstm)\n",
        "#line_number model\n",
        "#for input shape check the shape of 1st element of one_hot_encoded data\n",
        "line_number_inputs=layers.Input(shape=(15,),dtype=tf.float32,name=\"line_number_input\")\n",
        "x=layers.Dense(32,activation='relu')(line_number_inputs)\n",
        "line_number_model=tf.keras.Model(inputs=line_number_inputs,outputs=x)\n",
        "\n",
        "#total lines model\n",
        "total_lines_inputs=layers.Input(shape=(20,),dtype=tf.float32,name=\"total_lines_input\")\n",
        "y=layers.Dense(32,activation='relu')(total_lines_inputs)\n",
        "total_line_model=tf.keras.Model(inputs=total_lines_inputs,outputs=y)\n",
        "\n",
        "# combine token and char model\n",
        "combined_embeddings=layers.Concatenate(name='char_token_hybrid_embedding')([token_model.output,\n",
        "                                                                           char_model.output])\n",
        "z=layers.Dense(256,activation='relu')(combined_embeddings)\n",
        "z=layers.Dropout(0.5)(z)\n",
        "# positional embedding with combine embedding\n",
        "tribrid_embeddings=layers.Concatenate(name=\"char_token_positional_embedding\")([line_number_model.output,\n",
        "                                                                               total_line_model.output,\n",
        "                                                                               z\n",
        "                                                                               ])\n",
        "output_layer=layers.Dense(num_classes,activation=\"softmax\",name='output_layer')(tribrid_embeddings)\n",
        "model_5=tf.keras.Model(inputs=[line_number_model.input,\n",
        "                               total_line_model.input,\n",
        "                               token_model.input,\n",
        "                               char_model.input],\n",
        "                       outputs=output_layer,\n",
        "                       name='model_5_tribrid_embedding_model')"
      ]
    },
    {
      "cell_type": "code",
      "execution_count": null,
      "metadata": {
        "id": "gVlM-1vbsBTI"
      },
      "outputs": [],
      "source": [
        "model_5.summary()"
      ]
    },
    {
      "cell_type": "code",
      "execution_count": null,
      "metadata": {
        "id": "gjGbgJblsPTE"
      },
      "outputs": [],
      "source": [
        "plot_model(model_5,show_shapes=True)"
      ]
    },
    {
      "cell_type": "code",
      "execution_count": null,
      "metadata": {
        "id": "AI1c-u1f63qb"
      },
      "outputs": [],
      "source": [
        "model_5.compile(loss=tf.keras.losses.CategoricalCrossentropy(label_smoothing=0.2),#helps to prevent overfitting\n",
        "                optimizer=tf.keras.optimizers.Adam(),\n",
        "                metrics=['accuracy'])\n"
      ]
    },
    {
      "cell_type": "markdown",
      "metadata": {
        "id": "Tt0Q0FQQzvPE"
      },
      "source": [
        "# tribrid tf.data"
      ]
    },
    {
      "cell_type": "code",
      "execution_count": null,
      "metadata": {
        "id": "YMppYO_tz2Bf"
      },
      "outputs": [],
      "source": [
        "train_char_token_pos_data=tf.data.Dataset.from_tensor_slices((train_line_numbers_one_hot,\n",
        "                                                              train_total_lines_one_hot,\n",
        "                                                              train_sentences,\n",
        "                                                              train_chars))\n",
        "train_char_token_pos_labels=tf.data.Dataset.from_tensor_slices(train_labels_one_hot)\n",
        "train_char_token_pos_dataset=tf.data.Dataset.zip((train_char_token_pos_data,train_char_token_pos_labels))\n",
        "train_char_token_pos_dataset=train_char_token_pos_dataset.batch(32).prefetch(tf.data.AUTOTUNE)\n",
        "\n",
        "\n",
        "val_char_token_pos_data=tf.data.Dataset.from_tensor_slices((val_line_numbers_one_hot,\n",
        "                                                              val_total_lines_one_hot,\n",
        "                                                              val_sentences,\n",
        "                                                              val_chars))\n",
        "val_char_token_pos_labels=tf.data.Dataset.from_tensor_slices(val_labels_one_hot)\n",
        "val_char_token_pos_dataset=tf.data.Dataset.zip((val_char_token_pos_data,val_char_token_pos_labels))\n",
        "val_char_token_pos_dataset=val_char_token_pos_dataset.batch(32).prefetch(tf.data.AUTOTUNE)\n",
        "\n",
        "\n",
        "test_char_token_pos_data=tf.data.Dataset.from_tensor_slices((test_line_numbers_one_hot,\n",
        "                                                              test_total_lines_one_hot,\n",
        "                                                              test_sentences,\n",
        "                                                              test_chars))\n",
        "test_char_token_pos_labels=tf.data.Dataset.from_tensor_slices(test_labels_one_hot)\n",
        "test_char_token_pos_dataset=tf.data.Dataset.zip((test_char_token_pos_data,test_char_token_pos_labels))\n",
        "test_char_token_pos_dataset=test_char_token_pos_dataset.batch(32).prefetch(tf.data.AUTOTUNE)"
      ]
    },
    {
      "cell_type": "code",
      "execution_count": null,
      "metadata": {
        "id": "rQDUKCYS2_Aq"
      },
      "outputs": [],
      "source": [
        "train_char_token_pos_dataset"
      ]
    },
    {
      "cell_type": "code",
      "execution_count": null,
      "metadata": {
        "colab": {
          "background_save": true
        },
        "id": "6iEGhbTy3owr"
      },
      "outputs": [],
      "source": [
        "model_5_history=model_5.fit(train_char_token_pos_dataset,\n",
        "                            steps_per_epoch=int(0.1*len(train_char_token_pos_dataset)),\n",
        "                            epochs=3,\n",
        "                            validation_data=val_char_token_pos_dataset,\n",
        "                            validation_steps=int(0.1*len(val_char_token_pos_dataset)))"
      ]
    },
    {
      "cell_type": "code",
      "execution_count": null,
      "metadata": {
        "colab": {
          "background_save": true
        },
        "id": "bFHtG2pZC44S"
      },
      "outputs": [],
      "source": [
        "model_5.evaluate(val_char_token_pos_dataset)"
      ]
    },
    {
      "cell_type": "code",
      "execution_count": null,
      "metadata": {
        "colab": {
          "background_save": true
        },
        "id": "oZlqre53DPu0"
      },
      "outputs": [],
      "source": [
        "model_5_pred_probs=model_5.predict(val_char_token_pos_dataset)"
      ]
    },
    {
      "cell_type": "code",
      "execution_count": null,
      "metadata": {
        "colab": {
          "background_save": true
        },
        "id": "udER6QSNDP7W"
      },
      "outputs": [],
      "source": [
        "model_5_preds=tf.argmax(model_5_pred_probs,axis=1)\n",
        "model_5_preds"
      ]
    },
    {
      "cell_type": "code",
      "execution_count": null,
      "metadata": {
        "colab": {
          "background_save": true
        },
        "id": "-Pr1iTqUDQaF"
      },
      "outputs": [],
      "source": [
        "model_5_results=calculate_results(y_true=val_labels_encoded,y_pred=model_5_preds)\n",
        "model_5_results"
      ]
    },
    {
      "cell_type": "code",
      "execution_count": null,
      "metadata": {
        "colab": {
          "background_save": true
        },
        "id": "ik9imYTlFYvz"
      },
      "outputs": [],
      "source": [
        "all_model_results=pd.DataFrame({\"model_0_baseline\":baseline_results,\n",
        "                                \"model_1_custom_token_embedding\":model_1_results,\n",
        "                                \"model_2_pretrained_token_embedding\":model_2_results,\n",
        "                                \"model_3_hybrid_char_token_embedding\":model_3_results,\n",
        "                                \"model_4_hybrid_char_token_embedding\":model_4_results,\n",
        "                                \"model_5_pos_char_token_embedding\":model_5_results})\n",
        "all_model_results"
      ]
    },
    {
      "cell_type": "code",
      "execution_count": null,
      "metadata": {
        "colab": {
          "background_save": true
        },
        "id": "ChPru-NXKmwh"
      },
      "outputs": [],
      "source": [
        "all_model_results=all_model_results.transpose()\n",
        "all_model_results"
      ]
    },
    {
      "cell_type": "code",
      "execution_count": null,
      "metadata": {
        "colab": {
          "background_save": true
        },
        "id": "EKWo3P7sMs0e"
      },
      "outputs": [],
      "source": [
        "all_model_results['accuracy']=all_model_results['accuracy']/100"
      ]
    },
    {
      "cell_type": "code",
      "execution_count": null,
      "metadata": {
        "colab": {
          "background_save": true
        },
        "id": "ls9FlpFZNIkB"
      },
      "outputs": [],
      "source": [
        "all_model_results.plot(kind='bar',figsize=(10,7)).legend(bbox_to_anchor=(1.0,1.0))"
      ]
    },
    {
      "cell_type": "markdown",
      "metadata": {
        "id": "6Ap-yFPrPEx6"
      },
      "source": [
        "# Model 6"
      ]
    },
    {
      "cell_type": "code",
      "execution_count": null,
      "metadata": {
        "colab": {
          "background_save": true
        },
        "id": "0zxLipnhNZn3"
      },
      "outputs": [],
      "source": [
        "# #token model\n",
        "\n",
        "# token_inputs=layers.Input(shape=(1,),dtype=tf.string)\n",
        "# text_vectors=text_vectorizer(inputs)\n",
        "# token_embeddings=token_embed(text_vectors)\n",
        "# x=layers.Conv1D(64,kernel_size=5,padding=\"same\",activation=\"relu\")(token_embeddings)\n",
        "# x=layers.GlobalAveragePooling1D()(x)\n",
        "# token_outputs=layers.Dense(32,activation=\"relu\")(x)\n",
        "# token_model=tf.keras.Model(inputs,outputs)\n",
        "\n",
        "\n",
        "# #line_number model\n",
        "# #for input shape check the shape of 1st element of one_hot_encoded data\n",
        "# line_number_inputs=layers.Input(shape=(15,),dtype=tf.float32,name=\"line_number_input\")\n",
        "# x=layers.Dense(32,activation='relu')(line_number_inputs)\n",
        "# line_number_model=tf.keras.Model(inputs=line_number_inputs,outputs=x)\n",
        "\n",
        "# #total lines model\n",
        "# total_lines_inputs=layers.Input(shape=(20,),dtype=tf.float32,name=\"total_lines_input\")\n",
        "# y=layers.Dense(32,activation='relu')(total_lines_inputs)\n",
        "# total_line_model=tf.keras.Model(inputs=total_lines_inputs,outputs=y)\n",
        "\n",
        "\n",
        "# # positional embedding with combine embedding\n",
        "# token_line_total_embeddings=layers.Concatenate(name=\"token_line_numbers_total_lines_hybrid_embedding\")([line_number_model.output,\n",
        "#                                                                                total_line_model.output,\n",
        "#                                                                                token_model.output\n",
        "#                                                                                ])\n",
        "# output_layer=layers.Dense(num_classes,activation=\"softmax\",name='output_layer')(token_line_total_embeddings)\n",
        "# model_6=tf.keras.Model(inputs=[line_number_model.input,\n",
        "#                                total_line_model.input,\n",
        "#                                token_model.input,\n",
        "#                                ],\n",
        "#                        outputs=output_layer,\n",
        "#                        name='model_6_tribrid_embedding_model')"
      ]
    },
    {
      "cell_type": "code",
      "execution_count": null,
      "metadata": {
        "colab": {
          "background_save": true
        },
        "id": "gyOd7sfPO7Kb"
      },
      "outputs": [],
      "source": [
        "# model_6.compile(loss=tf.keras.losses.CategoricalCrossentropy(label_smoothing=0.2),#helps to prevent overfitting\n",
        "#                 optimizer=tf.keras.optimizers.Adam(),\n",
        "#                 metrics=['accuracy'])"
      ]
    },
    {
      "cell_type": "code",
      "execution_count": null,
      "metadata": {
        "colab": {
          "background_save": true
        },
        "id": "88Km8Gt3PCyH"
      },
      "outputs": [],
      "source": [
        "# train_token_pos_data=tf.data.Dataset.from_tensor_slices((train_line_numbers_one_hot,\n",
        "#                                                               train_total_lines_one_hot,\n",
        "#                                                               train_sentences,\n",
        "#                                                               ))\n",
        "# train_token_pos_labels=tf.data.Dataset.from_tensor_slices(train_labels_one_hot)\n",
        "# train_token_pos_dataset=tf.data.Dataset.zip((train_token_pos_data,train_token_pos_labels))\n",
        "# train_token_pos_dataset=train_token_pos_dataset.batch(32).prefetch(tf.data.AUTOTUNE)\n",
        "\n",
        "\n",
        "# val_token_pos_data=tf.data.Dataset.from_tensor_slices((val_line_numbers_one_hot,\n",
        "#                                                               val_total_lines_one_hot,\n",
        "#                                                               val_sentences,\n",
        "#                                                               ))\n",
        "# val_token_pos_labels=tf.data.Dataset.from_tensor_slices(val_labels_one_hot)\n",
        "# val_token_pos_dataset=tf.data.Dataset.zip((val_token_pos_data,val_token_pos_labels))\n",
        "# val_token_pos_dataset=val_token_pos_dataset.batch(32).prefetch(tf.data.AUTOTUNE)\n",
        "\n",
        "\n",
        "# test_token_pos_data=tf.data.Dataset.from_tensor_slices((test_line_numbers_one_hot,\n",
        "#                                                               test_total_lines_one_hot,\n",
        "#                                                               test_sentences,\n",
        "#                                                               ))\n",
        "# test_token_pos_labels=tf.data.Dataset.from_tensor_slices(test_labels_one_hot)\n",
        "# test_token_pos_dataset=tf.data.Dataset.zip((test_token_pos_data,test_token_pos_labels))\n",
        "# test_token_pos_dataset=test_token_pos_dataset.batch(32).prefetch(tf.data.AUTOTUNE)"
      ]
    },
    {
      "cell_type": "code",
      "execution_count": null,
      "metadata": {
        "colab": {
          "background_save": true
        },
        "id": "92pCUv3bP3FA"
      },
      "outputs": [],
      "source": [
        "# train_token_pos_dataset"
      ]
    },
    {
      "cell_type": "code",
      "execution_count": null,
      "metadata": {
        "colab": {
          "background_save": true
        },
        "id": "P8ClfAdpQDgc"
      },
      "outputs": [],
      "source": [
        "# model_6_history=model_6.fit(train_token_pos_dataset,\n",
        "#                             steps_per_epoch=int(0.1*len(train_token_pos_dataset)),\n",
        "#                             epochs=3,\n",
        "#                             validation_data=val_token_pos_dataset,\n",
        "#                             validation_steps=int(0.1*len(val_token_pos_dataset)))"
      ]
    },
    {
      "cell_type": "code",
      "execution_count": null,
      "metadata": {
        "colab": {
          "background_save": true
        },
        "id": "HkqkyuXOQOR-"
      },
      "outputs": [],
      "source": [
        "# model_6.evaluate(val_token_pos_dataset)"
      ]
    },
    {
      "cell_type": "code",
      "execution_count": null,
      "metadata": {
        "colab": {
          "background_save": true
        },
        "id": "qdOXpfxjQjcF"
      },
      "outputs": [],
      "source": [
        "# model_6_pred_probs=model_6.predict(val_token_pos_dataset)"
      ]
    },
    {
      "cell_type": "code",
      "execution_count": null,
      "metadata": {
        "colab": {
          "background_save": true
        },
        "id": "TFlBtrs3QsOd"
      },
      "outputs": [],
      "source": [
        "# model_6_preds=tf.argmax(model_6_pred_probs,axis=1)\n",
        "# model_6_preds"
      ]
    },
    {
      "cell_type": "code",
      "execution_count": null,
      "metadata": {
        "colab": {
          "background_save": true
        },
        "id": "9Ufi-SCbQ0yM"
      },
      "outputs": [],
      "source": [
        "# model_6_results=calculate_results(y_true=val_labels_encoded,y_pred=model_6_preds)\n",
        "# model_6_results"
      ]
    },
    {
      "cell_type": "code",
      "execution_count": null,
      "metadata": {
        "colab": {
          "background_save": true
        },
        "id": "QzgDU_XEQ8SP"
      },
      "outputs": [],
      "source": [
        "# all_model_results=pd.DataFrame({\"model_0_baseline\":baseline_results,\n",
        "#                                 \"model_1_custom_token_embedding\":model_1_results,\n",
        "#                                 \"model_2_pretrained_token_embedding\":model_2_results,\n",
        "#                                 \"model_3_hybrid_char_token_embedding\":model_3_results,\n",
        "#                                 \"model_4_hybrid_char_token_embedding\":model_4_results,\n",
        "#                                 \"model_5_pos_char_token_embedding\":model_5_results,\n",
        "#                                 # \"model_6_token_pos_embedding\":model_6_results})\n",
        "# all_model_results"
      ]
    },
    {
      "cell_type": "code",
      "execution_count": null,
      "metadata": {
        "colab": {
          "background_save": true
        },
        "id": "2bAHfrUkRSKY"
      },
      "outputs": [],
      "source": [
        "all_model_results=all_model_results.transpose()\n",
        "all_model_results"
      ]
    },
    {
      "cell_type": "code",
      "execution_count": null,
      "metadata": {
        "colab": {
          "background_save": true
        },
        "id": "zGVQipXHRZgx"
      },
      "outputs": [],
      "source": [
        "all_model_results=pd.DataFrame({\"model_0_baseline\":baseline_results,\n",
        "                                \"model_1_custom_token_embedding\":model_1_results,\n",
        "                                \"model_2_pretrained_token_embedding\":model_2_results,\n",
        "                                \"model_3_hybrid_char_token_embedding\":model_3_results,\n",
        "                                \"model_4_hybrid_char_token_embedding\":model_4_results,\n",
        "                                \"model_5_pos_char_token_embedding\":model_5_results})\n",
        "all_model_results"
      ]
    },
    {
      "cell_type": "code",
      "execution_count": null,
      "metadata": {
        "colab": {
          "background_save": true
        },
        "id": "ROQyCJ62R33u"
      },
      "outputs": [],
      "source": [
        "all_model_results=all_model_results.transpose()\n",
        "all_model_results"
      ]
    },
    {
      "cell_type": "code",
      "execution_count": null,
      "metadata": {
        "colab": {
          "background_save": true
        },
        "id": "qyrj_oo7R52x"
      },
      "outputs": [],
      "source": [
        "all_model_results.sort_values(\"f1\",ascending=True)[\"f1\"].plot(kind='bar',figsize=(10,7))"
      ]
    },
    {
      "cell_type": "markdown",
      "metadata": {
        "id": "I2yFaJkpTCTk"
      },
      "source": [
        "# Save and load model"
      ]
    },
    {
      "cell_type": "code",
      "execution_count": null,
      "metadata": {
        "colab": {
          "background_save": true
        },
        "id": "sy7Ck1-kSpXm"
      },
      "outputs": [],
      "source": [
        "model_5.save(\"skimlit_tribrid_model\")"
      ]
    },
    {
      "cell_type": "code",
      "execution_count": null,
      "metadata": {
        "colab": {
          "background_save": true
        },
        "id": "wYpj3MU9XaxR"
      },
      "outputs": [],
      "source": [
        "loaded_model=tf.keras.models.load_model(\"skimlit_tribrid_model\")"
      ]
    },
    {
      "cell_type": "code",
      "execution_count": null,
      "metadata": {
        "colab": {
          "background_save": true
        },
        "id": "1R7lBL30X0nw"
      },
      "outputs": [],
      "source": [
        "list(train_char_token_pos_data.as_numpy_iterator())"
      ]
    },
    {
      "cell_type": "code",
      "execution_count": null,
      "metadata": {
        "colab": {
          "background_save": true
        },
        "id": "cM1rdEb6bOBu"
      },
      "outputs": [],
      "source": [
        "loaded_pred_probs=loaded_model.predict(val_char_token_pos_dataset)\n",
        "loaded_preds=tf.argmax(loaded_pred_probs,axis=1)\n",
        "loaded_preds[:10]"
      ]
    },
    {
      "cell_type": "code",
      "execution_count": null,
      "metadata": {
        "colab": {
          "background_save": true
        },
        "id": "PQ45TIW6aytg"
      },
      "outputs": [],
      "source": [
        "type(train_char_token_pos_data)"
      ]
    },
    {
      "cell_type": "code",
      "execution_count": null,
      "metadata": {
        "colab": {
          "background_save": true
        },
        "id": "uQQcK4xudiwB"
      },
      "outputs": [],
      "source": [
        "# from sklearn.metrics import confusion_matrix"
      ]
    },
    {
      "cell_type": "code",
      "execution_count": null,
      "metadata": {
        "id": "jNcnzH4tl2Wh"
      },
      "outputs": [],
      "source": [
        "# cm = confusion_matrix(val_labels_encoded, model_5_preds)\n",
        "# cm"
      ]
    }
  ],
  "metadata": {
    "colab": {
      "provenance": []
    },
    "gpuClass": "standard",
    "kernelspec": {
      "display_name": "Python 3",
      "name": "python3"
    },
    "language_info": {
      "name": "python"
    }
  },
  "nbformat": 4,
  "nbformat_minor": 0
}